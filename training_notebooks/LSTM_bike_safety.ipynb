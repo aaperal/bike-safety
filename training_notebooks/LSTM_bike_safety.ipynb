{
  "nbformat": 4,
  "nbformat_minor": 0,
  "metadata": {
    "colab": {
      "name": "LSTM-bike-safety.ipynb",
      "version": "0.3.2",
      "provenance": [],
      "collapsed_sections": []
    },
    "kernelspec": {
      "name": "python3",
      "display_name": "Python 3"
    }
  },
  "cells": [
    {
      "cell_type": "code",
      "metadata": {
        "id": "yNK6wP_R91GS",
        "colab_type": "code",
        "outputId": "22f69d29-c7d7-46d3-d72b-ebb429617dcd",
        "colab": {
          "base_uri": "https://localhost:8080/",
          "height": 34
        }
      },
      "source": [
        "# Mounting local drive directory\n",
        "from google.colab import drive\n",
        "drive.mount('/content/drive')\n"
      ],
      "execution_count": 0,
      "outputs": [
        {
          "output_type": "stream",
          "text": [
            "Drive already mounted at /content/drive; to attempt to forcibly remount, call drive.mount(\"/content/drive\", force_remount=True).\n"
          ],
          "name": "stdout"
        }
      ]
    },
    {
      "cell_type": "code",
      "metadata": {
        "id": "Gk9nT0pCUveA",
        "colab_type": "code",
        "colab": {}
      },
      "source": [
        ""
      ],
      "execution_count": 0,
      "outputs": []
    },
    {
      "cell_type": "code",
      "metadata": {
        "id": "ugscy3XL-urQ",
        "colab_type": "code",
        "colab": {}
      },
      "source": [
        "import pandas as pd\n",
        "import numpy as np\n",
        "import matplotlib.pyplot as plt\n",
        "import os\n",
        "\n",
        "%matplotlib inline"
      ],
      "execution_count": 0,
      "outputs": []
    },
    {
      "cell_type": "code",
      "metadata": {
        "id": "TeMC__8nU3Ow",
        "colab_type": "code",
        "colab": {}
      },
      "source": [
        ""
      ],
      "execution_count": 0,
      "outputs": []
    },
    {
      "cell_type": "code",
      "metadata": {
        "id": "aJGgBbrP-q9q",
        "colab_type": "code",
        "colab": {}
      },
      "source": [
        "BASE_DIR = os.path.join('/content','drive','Team Drives','AppliedMLforSocialGood','ProjectData', 'Bike Safety')\n",
        "BASE_DIR\n",
        "\n",
        "COLLISION_DIR = os.path.join(BASE_DIR, 'CHP collision data')\n",
        "collision_file = os.path.join(COLLISION_DIR, 'CollisionRecords.txt')\n",
        "collision_file\n",
        "\n",
        "FORD_DIR = os.path.join(BASE_DIR, 'Ford bike data')\n",
        "ford_bike_file = os.path.join(FORD_DIR, 'sf_hourly_aggregated.csv')\n",
        "\n",
        "#SAMPLE_SIZE = 1000\n",
        "\n"
      ],
      "execution_count": 0,
      "outputs": []
    },
    {
      "cell_type": "markdown",
      "metadata": {
        "id": "F_M5A8nUIok-",
        "colab_type": "text"
      },
      "source": [
        "The columns in the Collision Records CSV file are the following:\n",
        "\n",
        "CASE_ID,ACCIDENT_YEAR,PROC_DATE,JURIS,COLLISION_DATE,COLLISION_TIME,OFFICER_ID,REPORTING_DISTRICT,DAY_OF_WEEK,CHP_SHIFT,POPULATION,CNTY_CITY_LOC,SPECIAL_COND,BEAT_TYPE,CHP_BEAT_TYPE,CITY_DIVISION_LAPD,CHP_BEAT_CLASS,BEAT_NUMBER,PRIMARY_RD,SECONDARY_RD,DISTANCE,DIRECTION,INTERSECTION,WEATHER_1,WEATHER_2,STATE_HWY_IND,CALTRANS_COUNTY,CALTRANS_DISTRICT,STATE_ROUTE,ROUTE_SUFFIX,POSTMILE_PREFIX,POSTMILE,LOCATION_TYPE,RAMP_INTERSECTION,SIDE_OF_HWY,TOW_AWAY,COLLISION_SEVERITY,NUMBER_KILLED,NUMBER_INJURED,PARTY_COUNT,PRIMARY_COLL_FACTOR,PCF_CODE_OF_VIOL,PCF_VIOL_CATEGORY,PCF_VIOLATION,PCF_VIOL_SUBSECTION,HIT_AND_RUN,TYPE_OF_COLLISION,MVIW,PED_ACTION,ROAD_SURFACE,ROAD_COND_1,ROAD_COND_2,LIGHTING,CONTROL_DEVICE,CHP_ROAD_TYPE,PEDESTRIAN_ACCIDENT,BICYCLE_ACCIDENT,MOTORCYCLE_ACCIDENT,TRUCK_ACCIDENT,NOT_PRIVATE_PROPERTY,ALCOHOL_INVOLVED,STWD_VEHTYPE_AT_FAULT,CHP_VEHTYPE_AT_FAULT,COUNT_SEVERE_INJ,COUNT_VISIBLE_INJ,COUNT_COMPLAINT_PAIN,COUNT_PED_KILLED,COUNT_PED_INJURED,COUNT_BICYCLIST_KILLED,COUNT_BICYCLIST_INJURED,COUNT_MC_KILLED,COUNT_MC_INJURED,PRIMARY_RAMP,SECONDARY_RAMP,LATITUDE,LONGITUDE\n",
        "\n",
        "In our case, we will use only the following pieces of information:\n",
        "\n",
        "ACCIDENT_YEAR,PROC_DATE,COLLISION_DATE,COLLISION_TIME,DAY_OF_WEEK,POPULATION,CNTY_CITY_LOC,PRIMARY_RD,SECONDARY_RD,DISTANCE,DIRECTION,INTERSECTION,WEATHER_1,WEATHER_2,COLLISION_SEVERITY,NUMBER_KILLED,NUMBER_INJURED,BICYCLE_ACCIDENT,COUNT_BICYCLIST_KILLED,COUNT_BICYCLIST_INJURED,LATITUDE,LONGITUDE\n",
        "\n",
        "We will specifically focus on the columns that indicate a bycicle accident. These are indicated by the value \"Y\"."
      ]
    },
    {
      "cell_type": "code",
      "metadata": {
        "id": "HY0-nEJ-HTce",
        "colab_type": "code",
        "outputId": "3a66c120-13d5-4a13-a39b-5457cfa70a39",
        "colab": {
          "base_uri": "https://localhost:8080/",
          "height": 340
        }
      },
      "source": [
        "cols_string = 'ACCIDENT_YEAR,PROC_DATE,COLLISION_DATE,COLLISION_TIME,DAY_OF_WEEK,PRIMARY_RD,SECONDARY_RD,DISTANCE,DIRECTION,INTERSECTION,WEATHER_1,COLLISION_SEVERITY,NUMBER_KILLED,NUMBER_INJURED,BICYCLE_ACCIDENT,COUNT_BICYCLIST_KILLED,COUNT_BICYCLIST_INJURED,LATITUDE,LONGITUDE'\n",
        "cols_of_interest = cols_string.split(',')\n",
        "cols_of_interest\n"
      ],
      "execution_count": 0,
      "outputs": [
        {
          "output_type": "execute_result",
          "data": {
            "text/plain": [
              "['ACCIDENT_YEAR',\n",
              " 'PROC_DATE',\n",
              " 'COLLISION_DATE',\n",
              " 'COLLISION_TIME',\n",
              " 'DAY_OF_WEEK',\n",
              " 'PRIMARY_RD',\n",
              " 'SECONDARY_RD',\n",
              " 'DISTANCE',\n",
              " 'DIRECTION',\n",
              " 'INTERSECTION',\n",
              " 'WEATHER_1',\n",
              " 'COLLISION_SEVERITY',\n",
              " 'NUMBER_KILLED',\n",
              " 'NUMBER_INJURED',\n",
              " 'BICYCLE_ACCIDENT',\n",
              " 'COUNT_BICYCLIST_KILLED',\n",
              " 'COUNT_BICYCLIST_INJURED',\n",
              " 'LATITUDE',\n",
              " 'LONGITUDE']"
            ]
          },
          "metadata": {
            "tags": []
          },
          "execution_count": 4
        }
      ]
    },
    {
      "cell_type": "markdown",
      "metadata": {
        "id": "wynkCkVYdMum",
        "colab_type": "text"
      },
      "source": [
        "This is the data for the bicycle collisions. "
      ]
    },
    {
      "cell_type": "code",
      "metadata": {
        "id": "Emf3bj42KWZJ",
        "colab_type": "code",
        "outputId": "c763f018-dbff-417a-bf81-a270b7c85a23",
        "colab": {
          "base_uri": "https://localhost:8080/",
          "height": 34
        }
      },
      "source": [
        "collision_data = pd.read_csv(collision_file, usecols=cols_of_interest)\n",
        "collision_data.shape"
      ],
      "execution_count": 0,
      "outputs": [
        {
          "output_type": "execute_result",
          "data": {
            "text/plain": [
              "(15277, 19)"
            ]
          },
          "metadata": {
            "tags": []
          },
          "execution_count": 5
        }
      ]
    },
    {
      "cell_type": "code",
      "metadata": {
        "id": "E2V0we-sG2lY",
        "colab_type": "code",
        "outputId": "b47468d2-970c-4b4a-c681-7b3eb5df16bd",
        "colab": {
          "base_uri": "https://localhost:8080/",
          "height": 600
        }
      },
      "source": [
        "collision_data.sample(10)"
      ],
      "execution_count": 0,
      "outputs": [
        {
          "output_type": "execute_result",
          "data": {
            "text/html": [
              "<div>\n",
              "<style scoped>\n",
              "    .dataframe tbody tr th:only-of-type {\n",
              "        vertical-align: middle;\n",
              "    }\n",
              "\n",
              "    .dataframe tbody tr th {\n",
              "        vertical-align: top;\n",
              "    }\n",
              "\n",
              "    .dataframe thead th {\n",
              "        text-align: right;\n",
              "    }\n",
              "</style>\n",
              "<table border=\"1\" class=\"dataframe\">\n",
              "  <thead>\n",
              "    <tr style=\"text-align: right;\">\n",
              "      <th></th>\n",
              "      <th>ACCIDENT_YEAR</th>\n",
              "      <th>PROC_DATE</th>\n",
              "      <th>COLLISION_DATE</th>\n",
              "      <th>COLLISION_TIME</th>\n",
              "      <th>DAY_OF_WEEK</th>\n",
              "      <th>PRIMARY_RD</th>\n",
              "      <th>SECONDARY_RD</th>\n",
              "      <th>DISTANCE</th>\n",
              "      <th>DIRECTION</th>\n",
              "      <th>INTERSECTION</th>\n",
              "      <th>WEATHER_1</th>\n",
              "      <th>COLLISION_SEVERITY</th>\n",
              "      <th>NUMBER_KILLED</th>\n",
              "      <th>NUMBER_INJURED</th>\n",
              "      <th>BICYCLE_ACCIDENT</th>\n",
              "      <th>COUNT_BICYCLIST_KILLED</th>\n",
              "      <th>COUNT_BICYCLIST_INJURED</th>\n",
              "      <th>LATITUDE</th>\n",
              "      <th>LONGITUDE</th>\n",
              "    </tr>\n",
              "  </thead>\n",
              "  <tbody>\n",
              "    <tr>\n",
              "      <th>10241</th>\n",
              "      <td>2018</td>\n",
              "      <td>20181002</td>\n",
              "      <td>20180811</td>\n",
              "      <td>1530</td>\n",
              "      <td>6</td>\n",
              "      <td>BOSWORTH ST</td>\n",
              "      <td>LYELL ST</td>\n",
              "      <td>0.0</td>\n",
              "      <td>NaN</td>\n",
              "      <td>Y</td>\n",
              "      <td>A</td>\n",
              "      <td>4</td>\n",
              "      <td>0</td>\n",
              "      <td>1</td>\n",
              "      <td>NaN</td>\n",
              "      <td>0</td>\n",
              "      <td>0</td>\n",
              "      <td>NaN</td>\n",
              "      <td>NaN</td>\n",
              "    </tr>\n",
              "    <tr>\n",
              "      <th>6642</th>\n",
              "      <td>2017</td>\n",
              "      <td>20171026</td>\n",
              "      <td>20170905</td>\n",
              "      <td>1240</td>\n",
              "      <td>2</td>\n",
              "      <td>I-80 W/B</td>\n",
              "      <td>WEST ROADWAY EDGE OF 3RD STREET U/C</td>\n",
              "      <td>175.0</td>\n",
              "      <td>W</td>\n",
              "      <td>N</td>\n",
              "      <td>A</td>\n",
              "      <td>4</td>\n",
              "      <td>0</td>\n",
              "      <td>1</td>\n",
              "      <td>NaN</td>\n",
              "      <td>0</td>\n",
              "      <td>0</td>\n",
              "      <td>37.78179</td>\n",
              "      <td>122.39701</td>\n",
              "    </tr>\n",
              "    <tr>\n",
              "      <th>13097</th>\n",
              "      <td>2018</td>\n",
              "      <td>20180820</td>\n",
              "      <td>20180810</td>\n",
              "      <td>1647</td>\n",
              "      <td>5</td>\n",
              "      <td>I-80 E/B</td>\n",
              "      <td>TREASURE ISLAND RD. O/C</td>\n",
              "      <td>600.0</td>\n",
              "      <td>W</td>\n",
              "      <td>N</td>\n",
              "      <td>A</td>\n",
              "      <td>0</td>\n",
              "      <td>0</td>\n",
              "      <td>0</td>\n",
              "      <td>NaN</td>\n",
              "      <td>0</td>\n",
              "      <td>0</td>\n",
              "      <td>37.80774</td>\n",
              "      <td>122.36770</td>\n",
              "    </tr>\n",
              "    <tr>\n",
              "      <th>1650</th>\n",
              "      <td>2017</td>\n",
              "      <td>20170512</td>\n",
              "      <td>20170420</td>\n",
              "      <td>1800</td>\n",
              "      <td>4</td>\n",
              "      <td>CALIFORNIA ST</td>\n",
              "      <td>32ND AV</td>\n",
              "      <td>54.0</td>\n",
              "      <td>W</td>\n",
              "      <td>N</td>\n",
              "      <td>A</td>\n",
              "      <td>0</td>\n",
              "      <td>0</td>\n",
              "      <td>0</td>\n",
              "      <td>NaN</td>\n",
              "      <td>0</td>\n",
              "      <td>0</td>\n",
              "      <td>NaN</td>\n",
              "      <td>NaN</td>\n",
              "    </tr>\n",
              "    <tr>\n",
              "      <th>15004</th>\n",
              "      <td>2019</td>\n",
              "      <td>20190220</td>\n",
              "      <td>20190217</td>\n",
              "      <td>1125</td>\n",
              "      <td>7</td>\n",
              "      <td>US-101 SOUTHBOUND TO I-80 EASTBOUND</td>\n",
              "      <td>DIVISION ST</td>\n",
              "      <td>70.0</td>\n",
              "      <td>S</td>\n",
              "      <td>N</td>\n",
              "      <td>B</td>\n",
              "      <td>0</td>\n",
              "      <td>0</td>\n",
              "      <td>0</td>\n",
              "      <td>NaN</td>\n",
              "      <td>0</td>\n",
              "      <td>0</td>\n",
              "      <td>37.76946</td>\n",
              "      <td>122.40555</td>\n",
              "    </tr>\n",
              "    <tr>\n",
              "      <th>10011</th>\n",
              "      <td>2018</td>\n",
              "      <td>20180927</td>\n",
              "      <td>20180808</td>\n",
              "      <td>2110</td>\n",
              "      <td>3</td>\n",
              "      <td>CESAR CHAVEZ</td>\n",
              "      <td>ALABAMA</td>\n",
              "      <td>0.0</td>\n",
              "      <td>NaN</td>\n",
              "      <td>Y</td>\n",
              "      <td>A</td>\n",
              "      <td>4</td>\n",
              "      <td>0</td>\n",
              "      <td>1</td>\n",
              "      <td>NaN</td>\n",
              "      <td>0</td>\n",
              "      <td>0</td>\n",
              "      <td>NaN</td>\n",
              "      <td>NaN</td>\n",
              "    </tr>\n",
              "    <tr>\n",
              "      <th>8125</th>\n",
              "      <td>2018</td>\n",
              "      <td>20180420</td>\n",
              "      <td>20180311</td>\n",
              "      <td>1206</td>\n",
              "      <td>7</td>\n",
              "      <td>PRESIDIO BL</td>\n",
              "      <td>PINE ST</td>\n",
              "      <td>7.0</td>\n",
              "      <td>N</td>\n",
              "      <td>N</td>\n",
              "      <td>A</td>\n",
              "      <td>4</td>\n",
              "      <td>0</td>\n",
              "      <td>1</td>\n",
              "      <td>NaN</td>\n",
              "      <td>0</td>\n",
              "      <td>0</td>\n",
              "      <td>NaN</td>\n",
              "      <td>NaN</td>\n",
              "    </tr>\n",
              "    <tr>\n",
              "      <th>9906</th>\n",
              "      <td>2018</td>\n",
              "      <td>20180829</td>\n",
              "      <td>20180722</td>\n",
              "      <td>2121</td>\n",
              "      <td>7</td>\n",
              "      <td>KING ST</td>\n",
              "      <td>BERRY ST</td>\n",
              "      <td>335.0</td>\n",
              "      <td>N</td>\n",
              "      <td>N</td>\n",
              "      <td>B</td>\n",
              "      <td>0</td>\n",
              "      <td>0</td>\n",
              "      <td>0</td>\n",
              "      <td>NaN</td>\n",
              "      <td>0</td>\n",
              "      <td>0</td>\n",
              "      <td>NaN</td>\n",
              "      <td>NaN</td>\n",
              "    </tr>\n",
              "    <tr>\n",
              "      <th>1447</th>\n",
              "      <td>2017</td>\n",
              "      <td>20170511</td>\n",
              "      <td>20170421</td>\n",
              "      <td>950</td>\n",
              "      <td>5</td>\n",
              "      <td>CESAR CHAVEZ ST</td>\n",
              "      <td>2200 CESAR CHAVEZ ST</td>\n",
              "      <td>85.0</td>\n",
              "      <td>E</td>\n",
              "      <td>N</td>\n",
              "      <td>A</td>\n",
              "      <td>3</td>\n",
              "      <td>0</td>\n",
              "      <td>1</td>\n",
              "      <td>NaN</td>\n",
              "      <td>0</td>\n",
              "      <td>0</td>\n",
              "      <td>NaN</td>\n",
              "      <td>NaN</td>\n",
              "    </tr>\n",
              "    <tr>\n",
              "      <th>114</th>\n",
              "      <td>2017</td>\n",
              "      <td>20170320</td>\n",
              "      <td>20170209</td>\n",
              "      <td>903</td>\n",
              "      <td>4</td>\n",
              "      <td>JUNIPERO SERRA BL</td>\n",
              "      <td>THOMAS MOORE WY</td>\n",
              "      <td>0.0</td>\n",
              "      <td>NaN</td>\n",
              "      <td>Y</td>\n",
              "      <td>C</td>\n",
              "      <td>0</td>\n",
              "      <td>0</td>\n",
              "      <td>0</td>\n",
              "      <td>NaN</td>\n",
              "      <td>0</td>\n",
              "      <td>0</td>\n",
              "      <td>NaN</td>\n",
              "      <td>NaN</td>\n",
              "    </tr>\n",
              "  </tbody>\n",
              "</table>\n",
              "</div>"
            ],
            "text/plain": [
              "       ACCIDENT_YEAR  PROC_DATE  ...  LATITUDE  LONGITUDE\n",
              "10241           2018   20181002  ...       NaN        NaN\n",
              "6642            2017   20171026  ...  37.78179  122.39701\n",
              "13097           2018   20180820  ...  37.80774  122.36770\n",
              "1650            2017   20170512  ...       NaN        NaN\n",
              "15004           2019   20190220  ...  37.76946  122.40555\n",
              "10011           2018   20180927  ...       NaN        NaN\n",
              "8125            2018   20180420  ...       NaN        NaN\n",
              "9906            2018   20180829  ...       NaN        NaN\n",
              "1447            2017   20170511  ...       NaN        NaN\n",
              "114             2017   20170320  ...       NaN        NaN\n",
              "\n",
              "[10 rows x 19 columns]"
            ]
          },
          "metadata": {
            "tags": []
          },
          "execution_count": 6
        }
      ]
    },
    {
      "cell_type": "markdown",
      "metadata": {
        "id": "kfhy3yh-K9Uh",
        "colab_type": "text"
      },
      "source": [
        "Now we filter out the rows that didn't have a bicycle accident involved."
      ]
    },
    {
      "cell_type": "code",
      "metadata": {
        "id": "LAaK5XVqLeTi",
        "colab_type": "code",
        "outputId": "1df0f468-2cc8-41bd-d7e1-00480e284f40",
        "colab": {
          "base_uri": "https://localhost:8080/",
          "height": 34
        }
      },
      "source": [
        "is_bike_accident = collision_data['BICYCLE_ACCIDENT'] == 'Y'\n",
        "\n",
        "bike_collision_data = collision_data[is_bike_accident]\n",
        "bike_collision_data.shape"
      ],
      "execution_count": 0,
      "outputs": [
        {
          "output_type": "execute_result",
          "data": {
            "text/plain": [
              "(1302, 19)"
            ]
          },
          "metadata": {
            "tags": []
          },
          "execution_count": 7
        }
      ]
    },
    {
      "cell_type": "code",
      "metadata": {
        "id": "RN4UUZlGLz1I",
        "colab_type": "code",
        "outputId": "c30f66fc-b39a-4d78-c0da-5c3e1faf3a87",
        "colab": {
          "base_uri": "https://localhost:8080/",
          "height": 447
        }
      },
      "source": [
        "# we confirm that all the accidents remaining involve bike collisions\n",
        "bike_collision_data.sample(10)"
      ],
      "execution_count": 0,
      "outputs": [
        {
          "output_type": "execute_result",
          "data": {
            "text/html": [
              "<div>\n",
              "<style scoped>\n",
              "    .dataframe tbody tr th:only-of-type {\n",
              "        vertical-align: middle;\n",
              "    }\n",
              "\n",
              "    .dataframe tbody tr th {\n",
              "        vertical-align: top;\n",
              "    }\n",
              "\n",
              "    .dataframe thead th {\n",
              "        text-align: right;\n",
              "    }\n",
              "</style>\n",
              "<table border=\"1\" class=\"dataframe\">\n",
              "  <thead>\n",
              "    <tr style=\"text-align: right;\">\n",
              "      <th></th>\n",
              "      <th>ACCIDENT_YEAR</th>\n",
              "      <th>PROC_DATE</th>\n",
              "      <th>COLLISION_DATE</th>\n",
              "      <th>COLLISION_TIME</th>\n",
              "      <th>DAY_OF_WEEK</th>\n",
              "      <th>PRIMARY_RD</th>\n",
              "      <th>SECONDARY_RD</th>\n",
              "      <th>DISTANCE</th>\n",
              "      <th>DIRECTION</th>\n",
              "      <th>INTERSECTION</th>\n",
              "      <th>WEATHER_1</th>\n",
              "      <th>COLLISION_SEVERITY</th>\n",
              "      <th>NUMBER_KILLED</th>\n",
              "      <th>NUMBER_INJURED</th>\n",
              "      <th>BICYCLE_ACCIDENT</th>\n",
              "      <th>COUNT_BICYCLIST_KILLED</th>\n",
              "      <th>COUNT_BICYCLIST_INJURED</th>\n",
              "      <th>LATITUDE</th>\n",
              "      <th>LONGITUDE</th>\n",
              "    </tr>\n",
              "  </thead>\n",
              "  <tbody>\n",
              "    <tr>\n",
              "      <th>1999</th>\n",
              "      <td>2017</td>\n",
              "      <td>20170619</td>\n",
              "      <td>20170519</td>\n",
              "      <td>1736</td>\n",
              "      <td>5</td>\n",
              "      <td>VALENCIA ST</td>\n",
              "      <td>CESAR CHAVEZ ST</td>\n",
              "      <td>0.0</td>\n",
              "      <td>NaN</td>\n",
              "      <td>Y</td>\n",
              "      <td>A</td>\n",
              "      <td>0</td>\n",
              "      <td>0</td>\n",
              "      <td>0</td>\n",
              "      <td>Y</td>\n",
              "      <td>0</td>\n",
              "      <td>0</td>\n",
              "      <td>NaN</td>\n",
              "      <td>NaN</td>\n",
              "    </tr>\n",
              "    <tr>\n",
              "      <th>13926</th>\n",
              "      <td>2019</td>\n",
              "      <td>20190227</td>\n",
              "      <td>20190102</td>\n",
              "      <td>814</td>\n",
              "      <td>3</td>\n",
              "      <td>MISSION ST</td>\n",
              "      <td>11TH ST</td>\n",
              "      <td>0.0</td>\n",
              "      <td>NaN</td>\n",
              "      <td>Y</td>\n",
              "      <td>A</td>\n",
              "      <td>4</td>\n",
              "      <td>0</td>\n",
              "      <td>1</td>\n",
              "      <td>Y</td>\n",
              "      <td>0</td>\n",
              "      <td>1</td>\n",
              "      <td>NaN</td>\n",
              "      <td>NaN</td>\n",
              "    </tr>\n",
              "    <tr>\n",
              "      <th>6270</th>\n",
              "      <td>2017</td>\n",
              "      <td>20170814</td>\n",
              "      <td>20170803</td>\n",
              "      <td>1130</td>\n",
              "      <td>4</td>\n",
              "      <td>GGB EAST SIDEWALK</td>\n",
              "      <td>GGB TOLL PLAZA</td>\n",
              "      <td>560.0</td>\n",
              "      <td>N</td>\n",
              "      <td>N</td>\n",
              "      <td>B</td>\n",
              "      <td>2</td>\n",
              "      <td>0</td>\n",
              "      <td>2</td>\n",
              "      <td>Y</td>\n",
              "      <td>0</td>\n",
              "      <td>1</td>\n",
              "      <td>37.80849</td>\n",
              "      <td>122.47671</td>\n",
              "    </tr>\n",
              "    <tr>\n",
              "      <th>399</th>\n",
              "      <td>2017</td>\n",
              "      <td>20170413</td>\n",
              "      <td>20170301</td>\n",
              "      <td>734</td>\n",
              "      <td>3</td>\n",
              "      <td>8TH ST</td>\n",
              "      <td>BRANNAN ST</td>\n",
              "      <td>0.0</td>\n",
              "      <td>NaN</td>\n",
              "      <td>Y</td>\n",
              "      <td>A</td>\n",
              "      <td>4</td>\n",
              "      <td>0</td>\n",
              "      <td>1</td>\n",
              "      <td>Y</td>\n",
              "      <td>0</td>\n",
              "      <td>1</td>\n",
              "      <td>NaN</td>\n",
              "      <td>NaN</td>\n",
              "    </tr>\n",
              "    <tr>\n",
              "      <th>3524</th>\n",
              "      <td>2017</td>\n",
              "      <td>20171019</td>\n",
              "      <td>20170912</td>\n",
              "      <td>1639</td>\n",
              "      <td>2</td>\n",
              "      <td>7TH AV</td>\n",
              "      <td>IRVING ST</td>\n",
              "      <td>0.0</td>\n",
              "      <td>NaN</td>\n",
              "      <td>Y</td>\n",
              "      <td>B</td>\n",
              "      <td>4</td>\n",
              "      <td>0</td>\n",
              "      <td>1</td>\n",
              "      <td>Y</td>\n",
              "      <td>0</td>\n",
              "      <td>1</td>\n",
              "      <td>NaN</td>\n",
              "      <td>NaN</td>\n",
              "    </tr>\n",
              "    <tr>\n",
              "      <th>8404</th>\n",
              "      <td>2018</td>\n",
              "      <td>20180612</td>\n",
              "      <td>20180408</td>\n",
              "      <td>915</td>\n",
              "      <td>7</td>\n",
              "      <td>22ND ST</td>\n",
              "      <td>VALENCIA ST</td>\n",
              "      <td>0.0</td>\n",
              "      <td>NaN</td>\n",
              "      <td>Y</td>\n",
              "      <td>A</td>\n",
              "      <td>4</td>\n",
              "      <td>0</td>\n",
              "      <td>1</td>\n",
              "      <td>Y</td>\n",
              "      <td>0</td>\n",
              "      <td>1</td>\n",
              "      <td>NaN</td>\n",
              "      <td>NaN</td>\n",
              "    </tr>\n",
              "    <tr>\n",
              "      <th>3465</th>\n",
              "      <td>2017</td>\n",
              "      <td>20171012</td>\n",
              "      <td>20170922</td>\n",
              "      <td>833</td>\n",
              "      <td>5</td>\n",
              "      <td>BAYSHORE BL</td>\n",
              "      <td>BAYSHORE BL 625</td>\n",
              "      <td>0.0</td>\n",
              "      <td>NaN</td>\n",
              "      <td>N</td>\n",
              "      <td>A</td>\n",
              "      <td>2</td>\n",
              "      <td>0</td>\n",
              "      <td>1</td>\n",
              "      <td>Y</td>\n",
              "      <td>0</td>\n",
              "      <td>1</td>\n",
              "      <td>NaN</td>\n",
              "      <td>NaN</td>\n",
              "    </tr>\n",
              "    <tr>\n",
              "      <th>1351</th>\n",
              "      <td>2017</td>\n",
              "      <td>20170413</td>\n",
              "      <td>20170302</td>\n",
              "      <td>1745</td>\n",
              "      <td>4</td>\n",
              "      <td>HOWARD ST</td>\n",
              "      <td>1ST ST</td>\n",
              "      <td>0.0</td>\n",
              "      <td>NaN</td>\n",
              "      <td>Y</td>\n",
              "      <td>A</td>\n",
              "      <td>4</td>\n",
              "      <td>0</td>\n",
              "      <td>1</td>\n",
              "      <td>Y</td>\n",
              "      <td>0</td>\n",
              "      <td>1</td>\n",
              "      <td>NaN</td>\n",
              "      <td>NaN</td>\n",
              "    </tr>\n",
              "    <tr>\n",
              "      <th>8237</th>\n",
              "      <td>2018</td>\n",
              "      <td>20180418</td>\n",
              "      <td>20180321</td>\n",
              "      <td>1830</td>\n",
              "      <td>3</td>\n",
              "      <td>WALLER ST</td>\n",
              "      <td>STANYAN ST</td>\n",
              "      <td>0.0</td>\n",
              "      <td>NaN</td>\n",
              "      <td>Y</td>\n",
              "      <td>A</td>\n",
              "      <td>3</td>\n",
              "      <td>0</td>\n",
              "      <td>1</td>\n",
              "      <td>Y</td>\n",
              "      <td>0</td>\n",
              "      <td>1</td>\n",
              "      <td>NaN</td>\n",
              "      <td>NaN</td>\n",
              "    </tr>\n",
              "    <tr>\n",
              "      <th>7531</th>\n",
              "      <td>2018</td>\n",
              "      <td>20180220</td>\n",
              "      <td>20180107</td>\n",
              "      <td>1127</td>\n",
              "      <td>7</td>\n",
              "      <td>9TH AV</td>\n",
              "      <td>IRVING ST</td>\n",
              "      <td>0.0</td>\n",
              "      <td>NaN</td>\n",
              "      <td>Y</td>\n",
              "      <td>B</td>\n",
              "      <td>3</td>\n",
              "      <td>0</td>\n",
              "      <td>1</td>\n",
              "      <td>Y</td>\n",
              "      <td>0</td>\n",
              "      <td>1</td>\n",
              "      <td>NaN</td>\n",
              "      <td>NaN</td>\n",
              "    </tr>\n",
              "  </tbody>\n",
              "</table>\n",
              "</div>"
            ],
            "text/plain": [
              "       ACCIDENT_YEAR  PROC_DATE  ...  LATITUDE  LONGITUDE\n",
              "1999            2017   20170619  ...       NaN        NaN\n",
              "13926           2019   20190227  ...       NaN        NaN\n",
              "6270            2017   20170814  ...  37.80849  122.47671\n",
              "399             2017   20170413  ...       NaN        NaN\n",
              "3524            2017   20171019  ...       NaN        NaN\n",
              "8404            2018   20180612  ...       NaN        NaN\n",
              "3465            2017   20171012  ...       NaN        NaN\n",
              "1351            2017   20170413  ...       NaN        NaN\n",
              "8237            2018   20180418  ...       NaN        NaN\n",
              "7531            2018   20180220  ...       NaN        NaN\n",
              "\n",
              "[10 rows x 19 columns]"
            ]
          },
          "metadata": {
            "tags": []
          },
          "execution_count": 8
        }
      ]
    },
    {
      "cell_type": "markdown",
      "metadata": {
        "id": "vcyTUl6MdqPB",
        "colab_type": "text"
      },
      "source": [
        "Now we take a look at the Ford bike data to see what it looks like."
      ]
    },
    {
      "cell_type": "code",
      "metadata": {
        "id": "MTJNejYYduPF",
        "colab_type": "code",
        "outputId": "e48b638d-79cb-4330-97d3-0bd052133867",
        "colab": {
          "base_uri": "https://localhost:8080/",
          "height": 34
        }
      },
      "source": [
        "SAMPLE_SIZE = 1000\n",
        "ford_data = pd.read_csv(ford_bike_file)\n",
        "ford_data.shape\n"
      ],
      "execution_count": 0,
      "outputs": [
        {
          "output_type": "execute_result",
          "data": {
            "text/plain": [
              "(1036442, 6)"
            ]
          },
          "metadata": {
            "tags": []
          },
          "execution_count": 9
        }
      ]
    },
    {
      "cell_type": "code",
      "metadata": {
        "id": "0d5Y1oJGd6Ak",
        "colab_type": "code",
        "outputId": "21fcbda8-1fdb-4e97-c88e-d65fd3a08a61",
        "colab": {
          "base_uri": "https://localhost:8080/",
          "height": 359
        }
      },
      "source": [
        "ford_data.sample(10)"
      ],
      "execution_count": 0,
      "outputs": [
        {
          "output_type": "execute_result",
          "data": {
            "text/html": [
              "<div>\n",
              "<style scoped>\n",
              "    .dataframe tbody tr th:only-of-type {\n",
              "        vertical-align: middle;\n",
              "    }\n",
              "\n",
              "    .dataframe tbody tr th {\n",
              "        vertical-align: top;\n",
              "    }\n",
              "\n",
              "    .dataframe thead th {\n",
              "        text-align: right;\n",
              "    }\n",
              "</style>\n",
              "<table border=\"1\" class=\"dataframe\">\n",
              "  <thead>\n",
              "    <tr style=\"text-align: right;\">\n",
              "      <th></th>\n",
              "      <th>Unnamed: 0</th>\n",
              "      <th>date</th>\n",
              "      <th>hour</th>\n",
              "      <th>weekday</th>\n",
              "      <th>station_name</th>\n",
              "      <th>num_visits</th>\n",
              "    </tr>\n",
              "  </thead>\n",
              "  <tbody>\n",
              "    <tr>\n",
              "      <th>452024</th>\n",
              "      <td>452024</td>\n",
              "      <td>2018-5-3</td>\n",
              "      <td>8</td>\n",
              "      <td>3</td>\n",
              "      <td>The Embarcadero at Steuart St</td>\n",
              "      <td>24</td>\n",
              "    </tr>\n",
              "    <tr>\n",
              "      <th>546765</th>\n",
              "      <td>546765</td>\n",
              "      <td>2018-7-13</td>\n",
              "      <td>9</td>\n",
              "      <td>4</td>\n",
              "      <td>4th St at Harrison St</td>\n",
              "      <td>18</td>\n",
              "    </tr>\n",
              "    <tr>\n",
              "      <th>1004959</th>\n",
              "      <td>1004959</td>\n",
              "      <td>2019-3-15</td>\n",
              "      <td>10</td>\n",
              "      <td>4</td>\n",
              "      <td>San Francisco Public Library (Grove St at Hyde...</td>\n",
              "      <td>6</td>\n",
              "    </tr>\n",
              "    <tr>\n",
              "      <th>427516</th>\n",
              "      <td>427516</td>\n",
              "      <td>2018-5-16</td>\n",
              "      <td>23</td>\n",
              "      <td>2</td>\n",
              "      <td>Market St at Franklin St</td>\n",
              "      <td>2</td>\n",
              "    </tr>\n",
              "    <tr>\n",
              "      <th>440840</th>\n",
              "      <td>440840</td>\n",
              "      <td>2018-5-9</td>\n",
              "      <td>15</td>\n",
              "      <td>2</td>\n",
              "      <td>Post St at Kearny St</td>\n",
              "      <td>2</td>\n",
              "    </tr>\n",
              "    <tr>\n",
              "      <th>111119</th>\n",
              "      <td>111119</td>\n",
              "      <td>2017-10-12</td>\n",
              "      <td>22</td>\n",
              "      <td>3</td>\n",
              "      <td>Golden Gate Ave at Polk St</td>\n",
              "      <td>4</td>\n",
              "    </tr>\n",
              "    <tr>\n",
              "      <th>555312</th>\n",
              "      <td>555312</td>\n",
              "      <td>2018-7-8</td>\n",
              "      <td>22</td>\n",
              "      <td>6</td>\n",
              "      <td>30th St at San Jose Ave</td>\n",
              "      <td>6</td>\n",
              "    </tr>\n",
              "    <tr>\n",
              "      <th>1010666</th>\n",
              "      <td>1010666</td>\n",
              "      <td>2019-3-12</td>\n",
              "      <td>23</td>\n",
              "      <td>1</td>\n",
              "      <td>8th St at Ringold St</td>\n",
              "      <td>2</td>\n",
              "    </tr>\n",
              "    <tr>\n",
              "      <th>114367</th>\n",
              "      <td>114367</td>\n",
              "      <td>2017-10-10</td>\n",
              "      <td>20</td>\n",
              "      <td>1</td>\n",
              "      <td>29th St at Church St</td>\n",
              "      <td>6</td>\n",
              "    </tr>\n",
              "    <tr>\n",
              "      <th>132168</th>\n",
              "      <td>132168</td>\n",
              "      <td>2017-9-28</td>\n",
              "      <td>16</td>\n",
              "      <td>3</td>\n",
              "      <td>16th St at Prosper St</td>\n",
              "      <td>6</td>\n",
              "    </tr>\n",
              "  </tbody>\n",
              "</table>\n",
              "</div>"
            ],
            "text/plain": [
              "         Unnamed: 0  ... num_visits\n",
              "452024       452024  ...         24\n",
              "546765       546765  ...         18\n",
              "1004959     1004959  ...          6\n",
              "427516       427516  ...          2\n",
              "440840       440840  ...          2\n",
              "111119       111119  ...          4\n",
              "555312       555312  ...          6\n",
              "1010666     1010666  ...          2\n",
              "114367       114367  ...          6\n",
              "132168       132168  ...          6\n",
              "\n",
              "[10 rows x 6 columns]"
            ]
          },
          "metadata": {
            "tags": []
          },
          "execution_count": 10
        }
      ]
    },
    {
      "cell_type": "code",
      "metadata": {
        "id": "tV4Sz8L_2UYI",
        "colab_type": "code",
        "outputId": "fd1a8189-ac3c-4fe1-90fc-a2d3d82ac009",
        "colab": {
          "base_uri": "https://localhost:8080/",
          "height": 312
        }
      },
      "source": [
        "# randomly plot bike visits for one station in one day\n",
        "# Beale St at Harrison St\n",
        "\n",
        "beale_data = ford_data[ford_data['station_name'] == 'Beale St at Harrison St']\n",
        "beale_data = beale_data[beale_data['date'] == '2018-6-7']\n",
        "beale_data.shape\n",
        "\n",
        "beale_data.plot(x='hour', y='num_visits',\n",
        "                title='Biker frequency at Beale & Harrison St Station on 2018-6-7')"
      ],
      "execution_count": 0,
      "outputs": [
        {
          "output_type": "execute_result",
          "data": {
            "text/plain": [
              "<matplotlib.axes._subplots.AxesSubplot at 0x7f0861f95eb8>"
            ]
          },
          "metadata": {
            "tags": []
          },
          "execution_count": 11
        },
        {
          "output_type": "display_data",
          "data": {
            "image/png": "[encoded data removed]",
            "text/plain": [
              "<Figure size 432x288 with 1 Axes>"
            ]
          },
          "metadata": {
            "tags": []
          }
        }
      ]
    },
    {
      "cell_type": "code",
      "metadata": {
        "id": "5J387jtdWVYY",
        "colab_type": "code",
        "outputId": "8b2f647a-6fca-4450-f3cc-e0a31e3006a5",
        "colab": {
          "base_uri": "https://localhost:8080/",
          "height": 359
        }
      },
      "source": [
        "# convert the date to an appropriate pandas datetime format\n",
        "ford_data['datehour'] = ford_data['date'].map(str) + ' ' + ford_data['hour'].map(str) + ':00:00'\n",
        "ford_data['datehour'] = pd.to_datetime(ford_data.datehour)\n",
        "\n",
        "ford_data.head(10)"
      ],
      "execution_count": 0,
      "outputs": [
        {
          "output_type": "execute_result",
          "data": {
            "text/html": [
              "<div>\n",
              "<style scoped>\n",
              "    .dataframe tbody tr th:only-of-type {\n",
              "        vertical-align: middle;\n",
              "    }\n",
              "\n",
              "    .dataframe tbody tr th {\n",
              "        vertical-align: top;\n",
              "    }\n",
              "\n",
              "    .dataframe thead th {\n",
              "        text-align: right;\n",
              "    }\n",
              "</style>\n",
              "<table border=\"1\" class=\"dataframe\">\n",
              "  <thead>\n",
              "    <tr style=\"text-align: right;\">\n",
              "      <th></th>\n",
              "      <th>Unnamed: 0</th>\n",
              "      <th>date</th>\n",
              "      <th>hour</th>\n",
              "      <th>weekday</th>\n",
              "      <th>station_name</th>\n",
              "      <th>num_visits</th>\n",
              "      <th>datehour</th>\n",
              "    </tr>\n",
              "  </thead>\n",
              "  <tbody>\n",
              "    <tr>\n",
              "      <th>0</th>\n",
              "      <td>0</td>\n",
              "      <td>2017-12-31</td>\n",
              "      <td>16</td>\n",
              "      <td>6</td>\n",
              "      <td>Laguna St at Hayes St</td>\n",
              "      <td>8</td>\n",
              "      <td>2017-12-31 16:00:00</td>\n",
              "    </tr>\n",
              "    <tr>\n",
              "      <th>1</th>\n",
              "      <td>1</td>\n",
              "      <td>2018-1-1</td>\n",
              "      <td>15</td>\n",
              "      <td>0</td>\n",
              "      <td>San Francisco Public Library (Grove St at Hyde...</td>\n",
              "      <td>12</td>\n",
              "      <td>2018-01-01 15:00:00</td>\n",
              "    </tr>\n",
              "    <tr>\n",
              "      <th>2</th>\n",
              "      <td>2</td>\n",
              "      <td>2017-12-31</td>\n",
              "      <td>15</td>\n",
              "      <td>6</td>\n",
              "      <td>Yerba Buena Center for the Arts (Howard St at ...</td>\n",
              "      <td>4</td>\n",
              "      <td>2017-12-31 15:00:00</td>\n",
              "    </tr>\n",
              "    <tr>\n",
              "      <th>3</th>\n",
              "      <td>3</td>\n",
              "      <td>2018-1-1</td>\n",
              "      <td>13</td>\n",
              "      <td>0</td>\n",
              "      <td>Dolores St at 15th St</td>\n",
              "      <td>2</td>\n",
              "      <td>2018-01-01 13:00:00</td>\n",
              "    </tr>\n",
              "    <tr>\n",
              "      <th>4</th>\n",
              "      <td>4</td>\n",
              "      <td>2017-12-31</td>\n",
              "      <td>17</td>\n",
              "      <td>6</td>\n",
              "      <td>8th St at Ringold St</td>\n",
              "      <td>4</td>\n",
              "      <td>2017-12-31 17:00:00</td>\n",
              "    </tr>\n",
              "    <tr>\n",
              "      <th>5</th>\n",
              "      <td>5</td>\n",
              "      <td>2018-1-1</td>\n",
              "      <td>10</td>\n",
              "      <td>0</td>\n",
              "      <td>Powell St BART Station (Market St at 5th St)</td>\n",
              "      <td>4</td>\n",
              "      <td>2018-01-01 10:00:00</td>\n",
              "    </tr>\n",
              "    <tr>\n",
              "      <th>6</th>\n",
              "      <td>6</td>\n",
              "      <td>2017-12-31</td>\n",
              "      <td>22</td>\n",
              "      <td>6</td>\n",
              "      <td>San Francisco Caltrain (Townsend St at 4th St)</td>\n",
              "      <td>16</td>\n",
              "      <td>2017-12-31 22:00:00</td>\n",
              "    </tr>\n",
              "    <tr>\n",
              "      <th>7</th>\n",
              "      <td>7</td>\n",
              "      <td>2018-1-1</td>\n",
              "      <td>1</td>\n",
              "      <td>0</td>\n",
              "      <td>San Francisco Caltrain (Townsend St at 4th St)</td>\n",
              "      <td>8</td>\n",
              "      <td>2018-01-01 01:00:00</td>\n",
              "    </tr>\n",
              "    <tr>\n",
              "      <th>8</th>\n",
              "      <td>8</td>\n",
              "      <td>2017-12-31</td>\n",
              "      <td>23</td>\n",
              "      <td>6</td>\n",
              "      <td>Yerba Buena Center for the Arts (Howard St at ...</td>\n",
              "      <td>6</td>\n",
              "      <td>2017-12-31 23:00:00</td>\n",
              "    </tr>\n",
              "    <tr>\n",
              "      <th>9</th>\n",
              "      <td>9</td>\n",
              "      <td>2018-1-1</td>\n",
              "      <td>0</td>\n",
              "      <td>0</td>\n",
              "      <td>Yerba Buena Center for the Arts (Howard St at ...</td>\n",
              "      <td>2</td>\n",
              "      <td>2018-01-01 00:00:00</td>\n",
              "    </tr>\n",
              "  </tbody>\n",
              "</table>\n",
              "</div>"
            ],
            "text/plain": [
              "   Unnamed: 0        date  ...  num_visits            datehour\n",
              "0           0  2017-12-31  ...           8 2017-12-31 16:00:00\n",
              "1           1    2018-1-1  ...          12 2018-01-01 15:00:00\n",
              "2           2  2017-12-31  ...           4 2017-12-31 15:00:00\n",
              "3           3    2018-1-1  ...           2 2018-01-01 13:00:00\n",
              "4           4  2017-12-31  ...           4 2017-12-31 17:00:00\n",
              "5           5    2018-1-1  ...           4 2018-01-01 10:00:00\n",
              "6           6  2017-12-31  ...          16 2017-12-31 22:00:00\n",
              "7           7    2018-1-1  ...           8 2018-01-01 01:00:00\n",
              "8           8  2017-12-31  ...           6 2017-12-31 23:00:00\n",
              "9           9    2018-1-1  ...           2 2018-01-01 00:00:00\n",
              "\n",
              "[10 rows x 7 columns]"
            ]
          },
          "metadata": {
            "tags": []
          },
          "execution_count": 12
        }
      ]
    },
    {
      "cell_type": "code",
      "metadata": {
        "id": "u7fK9S0CgQSa",
        "colab_type": "code",
        "colab": {}
      },
      "source": [
        "# sort the data by datehour\n",
        "ford_data = ford_data.sort_values('datehour')"
      ],
      "execution_count": 0,
      "outputs": []
    },
    {
      "cell_type": "code",
      "metadata": {
        "id": "85LSO0pIgY7Y",
        "colab_type": "code",
        "outputId": "9a68571c-118f-43a4-f5a8-48224f942af0",
        "colab": {
          "base_uri": "https://localhost:8080/",
          "height": 359
        }
      },
      "source": [
        "ford_data.head(10)"
      ],
      "execution_count": 0,
      "outputs": [
        {
          "output_type": "execute_result",
          "data": {
            "text/html": [
              "<div>\n",
              "<style scoped>\n",
              "    .dataframe tbody tr th:only-of-type {\n",
              "        vertical-align: middle;\n",
              "    }\n",
              "\n",
              "    .dataframe tbody tr th {\n",
              "        vertical-align: top;\n",
              "    }\n",
              "\n",
              "    .dataframe thead th {\n",
              "        text-align: right;\n",
              "    }\n",
              "</style>\n",
              "<table border=\"1\" class=\"dataframe\">\n",
              "  <thead>\n",
              "    <tr style=\"text-align: right;\">\n",
              "      <th></th>\n",
              "      <th>Unnamed: 0</th>\n",
              "      <th>date</th>\n",
              "      <th>hour</th>\n",
              "      <th>weekday</th>\n",
              "      <th>station_name</th>\n",
              "      <th>num_visits</th>\n",
              "      <th>datehour</th>\n",
              "    </tr>\n",
              "  </thead>\n",
              "  <tbody>\n",
              "    <tr>\n",
              "      <th>225931</th>\n",
              "      <td>225931</td>\n",
              "      <td>2017-6-28</td>\n",
              "      <td>9</td>\n",
              "      <td>2</td>\n",
              "      <td>Berry St at 4th St</td>\n",
              "      <td>2</td>\n",
              "      <td>2017-06-28 09:00:00</td>\n",
              "    </tr>\n",
              "    <tr>\n",
              "      <th>225939</th>\n",
              "      <td>225939</td>\n",
              "      <td>2017-6-28</td>\n",
              "      <td>9</td>\n",
              "      <td>2</td>\n",
              "      <td>Howard St at 2nd St</td>\n",
              "      <td>2</td>\n",
              "      <td>2017-06-28 09:00:00</td>\n",
              "    </tr>\n",
              "    <tr>\n",
              "      <th>225938</th>\n",
              "      <td>225938</td>\n",
              "      <td>2017-6-28</td>\n",
              "      <td>9</td>\n",
              "      <td>2</td>\n",
              "      <td>S Van Ness Ave at Market St</td>\n",
              "      <td>2</td>\n",
              "      <td>2017-06-28 09:00:00</td>\n",
              "    </tr>\n",
              "    <tr>\n",
              "      <th>225937</th>\n",
              "      <td>225937</td>\n",
              "      <td>2017-6-28</td>\n",
              "      <td>9</td>\n",
              "      <td>2</td>\n",
              "      <td>Market St at 10th St</td>\n",
              "      <td>2</td>\n",
              "      <td>2017-06-28 09:00:00</td>\n",
              "    </tr>\n",
              "    <tr>\n",
              "      <th>225936</th>\n",
              "      <td>225936</td>\n",
              "      <td>2017-6-28</td>\n",
              "      <td>9</td>\n",
              "      <td>2</td>\n",
              "      <td>2nd St at S Park St</td>\n",
              "      <td>4</td>\n",
              "      <td>2017-06-28 09:00:00</td>\n",
              "    </tr>\n",
              "    <tr>\n",
              "      <th>225935</th>\n",
              "      <td>225935</td>\n",
              "      <td>2017-6-28</td>\n",
              "      <td>9</td>\n",
              "      <td>2</td>\n",
              "      <td>Montgomery St BART Station (Market St at 2nd St)</td>\n",
              "      <td>2</td>\n",
              "      <td>2017-06-28 09:00:00</td>\n",
              "    </tr>\n",
              "    <tr>\n",
              "      <th>225933</th>\n",
              "      <td>225933</td>\n",
              "      <td>2017-6-28</td>\n",
              "      <td>9</td>\n",
              "      <td>2</td>\n",
              "      <td>3rd St at Townsend St</td>\n",
              "      <td>2</td>\n",
              "      <td>2017-06-28 09:00:00</td>\n",
              "    </tr>\n",
              "    <tr>\n",
              "      <th>225932</th>\n",
              "      <td>225932</td>\n",
              "      <td>2017-6-28</td>\n",
              "      <td>9</td>\n",
              "      <td>2</td>\n",
              "      <td>The Embarcadero at Steuart St</td>\n",
              "      <td>2</td>\n",
              "      <td>2017-06-28 09:00:00</td>\n",
              "    </tr>\n",
              "    <tr>\n",
              "      <th>225930</th>\n",
              "      <td>225930</td>\n",
              "      <td>2017-6-28</td>\n",
              "      <td>9</td>\n",
              "      <td>2</td>\n",
              "      <td>San Francisco Ferry Building (Harry Bridges Pl...</td>\n",
              "      <td>2</td>\n",
              "      <td>2017-06-28 09:00:00</td>\n",
              "    </tr>\n",
              "    <tr>\n",
              "      <th>225916</th>\n",
              "      <td>225916</td>\n",
              "      <td>2017-6-28</td>\n",
              "      <td>10</td>\n",
              "      <td>2</td>\n",
              "      <td>The Embarcadero at Sansome St</td>\n",
              "      <td>2</td>\n",
              "      <td>2017-06-28 10:00:00</td>\n",
              "    </tr>\n",
              "  </tbody>\n",
              "</table>\n",
              "</div>"
            ],
            "text/plain": [
              "        Unnamed: 0       date  ...  num_visits            datehour\n",
              "225931      225931  2017-6-28  ...           2 2017-06-28 09:00:00\n",
              "225939      225939  2017-6-28  ...           2 2017-06-28 09:00:00\n",
              "225938      225938  2017-6-28  ...           2 2017-06-28 09:00:00\n",
              "225937      225937  2017-6-28  ...           2 2017-06-28 09:00:00\n",
              "225936      225936  2017-6-28  ...           4 2017-06-28 09:00:00\n",
              "225935      225935  2017-6-28  ...           2 2017-06-28 09:00:00\n",
              "225933      225933  2017-6-28  ...           2 2017-06-28 09:00:00\n",
              "225932      225932  2017-6-28  ...           2 2017-06-28 09:00:00\n",
              "225930      225930  2017-6-28  ...           2 2017-06-28 09:00:00\n",
              "225916      225916  2017-6-28  ...           2 2017-06-28 10:00:00\n",
              "\n",
              "[10 rows x 7 columns]"
            ]
          },
          "metadata": {
            "tags": []
          },
          "execution_count": 14
        }
      ]
    },
    {
      "cell_type": "code",
      "metadata": {
        "id": "pR5cjp34bpgf",
        "colab_type": "code",
        "colab": {}
      },
      "source": [
        "#ford_data[''], ford_data['month'], ford_data['day'] = ford_data['date'].str.split('-', 2).str\n",
        "from datetime import timedelta\n",
        "\n",
        "# want 24hrs data, one day\n",
        "steps = 1\n",
        "step_length = timedelta(steps)\n",
        "\n",
        "first_day = ford_data['date'].iloc[0]\n",
        "last_day = ford_data['date'].iloc[-1]\n"
      ],
      "execution_count": 0,
      "outputs": []
    },
    {
      "cell_type": "code",
      "metadata": {
        "id": "6URICd8D_FPW",
        "colab_type": "code",
        "colab": {}
      },
      "source": [
        "# LSTM\n",
        "# Input: Future date (weekday can be calculated) and time (hour)\n",
        "# Output: Vector of 175 values (indicating number of visits at each station at that particular time/date)\n",
        "\n",
        "# Train Model on all data? \n",
        "# Use Case:\n",
        "# Traffic forecasting - if I open google maps and route my path through SF, \n",
        "# based on the last month of data I should be able to get a rough prediction \n",
        "# of bike data in the next hour/time that I plan to drive through there. \n",
        "\n",
        "# Implementation Idea 1:\n",
        "#     - Take all SF data from 2018 January\n",
        "#     - Train model on January 2018\n",
        "#     - Test model on random dates in Feburuary 2018\n",
        "#     - See if predictions for Feburary match the recorded data for Feb 2018\n",
        "#\n",
        "# Data Reshaping: \n",
        "#     - [Date, Weekday, Hour, StationName0, ... , StationName174]\n",
        "#     - Training_X is [Date, Weekday, Hour]\n",
        "#     - Training_Y is [StationName0, ... StationName174]    (Number of visits at each station)"
      ],
      "execution_count": 0,
      "outputs": []
    },
    {
      "cell_type": "code",
      "metadata": {
        "id": "CJq3ncaL_HIk",
        "colab_type": "code",
        "colab": {}
      },
      "source": [
        "station_data=ford_data.pivot_table(values='num_visits', \n",
        "                                   index=['datehour'], \n",
        "                                   columns='station_name', aggfunc=np.sum)\n",
        "\n",
        "\n",
        "# Here we select the minimum and maximum dates that we want to fill in\n",
        "min_date = first_day\n",
        "max_date = last_day\n",
        "\n",
        "# we generate a date_range for our re-indexing\n",
        "# frequency by hour\n",
        "dates = pd.date_range(min_date, max_date, freq='1H')\n",
        "new_index = pd.Index(dates, name=\"datehour\")\n",
        "\n",
        "# add new dates, sort, replace NaN with 0\n",
        "station_data = station_data.reindex(new_index)\n",
        "station_data = station_data.sort_values('datehour')\n",
        "\n",
        "station_data = station_data.fillna(0)\n",
        "\n",
        "#station_data.columns.values\n",
        "#station_data"
      ],
      "execution_count": 0,
      "outputs": []
    },
    {
      "cell_type": "code",
      "metadata": {
        "id": "w21wCihXMb-J",
        "colab_type": "code",
        "colab": {}
      },
      "source": [
        ""
      ],
      "execution_count": 0,
      "outputs": []
    },
    {
      "cell_type": "code",
      "metadata": {
        "id": "I6uwtyMKSqPx",
        "colab_type": "code",
        "colab": {}
      },
      "source": [
        ""
      ],
      "execution_count": 0,
      "outputs": []
    },
    {
      "cell_type": "code",
      "metadata": {
        "id": "EndxUqlaHoOL",
        "colab_type": "code",
        "outputId": "454a7229-40eb-4d8a-9051-d87a9f3e616d",
        "colab": {
          "base_uri": "https://localhost:8080/",
          "height": 68
        }
      },
      "source": [
        "# Find highest traffic stations\n",
        "nonzeros = (station_data != 0).sum(axis=0)   # Get number of nonzero entries in columns\n",
        "nonzeros = np.array(nonzeros)\n",
        "\n",
        "highest = [109, 134, 135, 45, 122, 58, 155, 145, 147, 68, 161, 153, 159, 31, 83, 144, 165, 130, 48, 162, 154, 44, 91, 10]\n",
        "print(len(highest))\n",
        "max_ = 0\n",
        "id_ = ''\n",
        "for idx in range(len(nonzeros)):\n",
        "  if idx not in highest:\n",
        "    if nonzeros[idx] > max_:\n",
        "      max_ = nonzeros[idx]\n",
        "      id_ = idx\n",
        "    \n",
        "print(id_)\n",
        "station_data.columns.values[id_]\n",
        "# REMEMBER TO REPLACE THE TRAINING PLOT WITH BEALE AND HARRISON"
      ],
      "execution_count": 0,
      "outputs": [
        {
          "output_type": "stream",
          "text": [
            "24\n",
            "76\n"
          ],
          "name": "stdout"
        },
        {
          "output_type": "execute_result",
          "data": {
            "text/plain": [
              "'Folsom St at 3rd St'"
            ]
          },
          "metadata": {
            "tags": []
          },
          "execution_count": 19
        }
      ]
    },
    {
      "cell_type": "code",
      "metadata": {
        "id": "-b8hQlbzFvVE",
        "colab_type": "code",
        "outputId": "98f48ec8-229e-4df4-c736-393bc605c9ae",
        "colab": {
          "base_uri": "https://localhost:8080/",
          "height": 34
        }
      },
      "source": [
        "# Sandboxing LSTM\n",
        "\n",
        "from sklearn.preprocessing import MinMaxScaler\n",
        "from pandas import Series\n",
        "\n",
        "d = station_data.describe()\n",
        "\n",
        "\n",
        "# Use only 1 station for designing and testing the LSTM\n",
        "\n",
        "label = station_data.columns.values[id_]\n",
        "# 0, 2, 5 - 44 % training acc\n",
        "# 7 = 49% training acc\n",
        "# 8 = 48% train acc \n",
        "current = station_data[label]\n",
        "\n",
        "current = pd.DataFrame(current[:-1])\n",
        "current\n",
        "len(current)\n",
        "# January 2019 through end of March 2019\n",
        "#current2019 = current[13248:-1]\n",
        "# Dates are in order -> earlier to latest"
      ],
      "execution_count": 0,
      "outputs": [
        {
          "output_type": "execute_result",
          "data": {
            "text/plain": [
              "15408"
            ]
          },
          "metadata": {
            "tags": []
          },
          "execution_count": 20
        }
      ]
    },
    {
      "cell_type": "code",
      "metadata": {
        "id": "3aiJPN5S91hS",
        "colab_type": "code",
        "outputId": "27e45332-7db9-4dc9-c6ed-cd92b976db65",
        "colab": {
          "base_uri": "https://localhost:8080/",
          "height": 34
        }
      },
      "source": [
        "seq = np.array(current[label])\n",
        "'''for i in range(len(seq)):\n",
        "  print(i, seq[i])\n",
        "print(label)'''\n",
        "len(seq)"
      ],
      "execution_count": 0,
      "outputs": [
        {
          "output_type": "execute_result",
          "data": {
            "text/plain": [
              "15408"
            ]
          },
          "metadata": {
            "tags": []
          },
          "execution_count": 21
        }
      ]
    },
    {
      "cell_type": "code",
      "metadata": {
        "id": "QI7XnhDudkTY",
        "colab_type": "code",
        "outputId": "ece87f21-2813-44cc-b21e-4cb3c9ce9b0e",
        "colab": {
          "base_uri": "https://localhost:8080/",
          "height": 34
        }
      },
      "source": [
        "# Aggregate by groups of 3 hours day\n",
        "'''print(len(seq))\n",
        "s = pd.DataFrame(seq)\n",
        "s = s.groupby(s.index // 3).sum()\n",
        "print(len(s))\n",
        "\n",
        "s = np.array(s)\n",
        "seq = []\n",
        "for v in s:\n",
        "  seq.append(v[0])\n",
        "print(seq)'''\n",
        "  \n",
        "print(len(seq)) "
      ],
      "execution_count": 0,
      "outputs": [
        {
          "output_type": "stream",
          "text": [
            "15408\n"
          ],
          "name": "stdout"
        }
      ]
    },
    {
      "cell_type": "code",
      "metadata": {
        "id": "KWbSu8oD7gHJ",
        "colab_type": "code",
        "outputId": "8736539b-6e23-4fa2-d0b9-afc5fc887afb",
        "colab": {
          "base_uri": "https://localhost:8080/",
          "height": 51
        }
      },
      "source": [
        "series = Series(seq)\n",
        "# prepare data for normalization\n",
        "values = series.values\n",
        "values = values.reshape((len(values), 1))\n",
        "scaler = MinMaxScaler(feature_range=(0,1))\n",
        "scaler = scaler.fit(values)\n",
        "print('Min: %f, Max: %f' % (scaler.data_min_, scaler.data_max_))\n",
        "# normalize dataset\n",
        "normalized = scaler.transform(values)\n",
        "#print(normalized)\n",
        "seq = normalized\n",
        "\n",
        "# split into train and test sets\n",
        "train_idx = int(len(seq) * 0.70)\n",
        "validation_idx = int(len(seq) * 0.90)\n",
        "train, validate, test = seq[0:train_idx], seq[train_idx:validation_idx], seq[validation_idx:len(seq)]\n",
        "print(len(train), len(validate), len(test))"
      ],
      "execution_count": 0,
      "outputs": [
        {
          "output_type": "stream",
          "text": [
            "Min: 0.000000, Max: 62.000000\n",
            "10785 3082 1541\n"
          ],
          "name": "stdout"
        }
      ]
    },
    {
      "cell_type": "code",
      "metadata": {
        "id": "P7vNLZTyaBZN",
        "colab_type": "code",
        "outputId": "0dec9635-64a9-4b38-ede3-58705b8eee1c",
        "colab": {
          "base_uri": "https://localhost:8080/",
          "height": 136
        }
      },
      "source": [
        "# Sanity checks\n",
        "#train[0:72]\n",
        "\n",
        "scaler.inverse_transform(test)"
      ],
      "execution_count": 0,
      "outputs": [
        {
          "output_type": "execute_result",
          "data": {
            "text/plain": [
              "array([[14.],\n",
              "       [ 0.],\n",
              "       [ 8.],\n",
              "       ...,\n",
              "       [ 4.],\n",
              "       [ 2.],\n",
              "       [ 8.]])"
            ]
          },
          "metadata": {
            "tags": []
          },
          "execution_count": 24
        }
      ]
    },
    {
      "cell_type": "code",
      "metadata": {
        "id": "5JDCZ1STyUdY",
        "colab_type": "code",
        "outputId": "3e647913-e99d-4ff4-bc1e-436035be42d0",
        "colab": {
          "base_uri": "https://localhost:8080/",
          "height": 119
        }
      },
      "source": [
        "# Split such that we predict the next hour from the last n_steps\n",
        "def split_sequence(sequence, n_steps):\n",
        "\tX, y = [], []\n",
        "\tfor i in range(len(sequence)):\n",
        "\t\t# find the end of this pattern\n",
        "\t\tend_ix = i + n_steps\n",
        "\t\t# check if we are beyond the sequence\n",
        "\t\tif end_ix > len(sequence)-1:\n",
        "\t\t\tbreak\n",
        "\t\t# gather input and output parts of the pattern\n",
        "\t\tseq_x, seq_y = sequence[i:end_ix], sequence[end_ix]\n",
        "\t\tX.append(seq_x)\n",
        "\t\ty.append(seq_y)\n",
        "\treturn X, y\n",
        "\n",
        "# learn from last N hours of active biker time \n",
        "n_steps = 24 # \n",
        "X_train, y_train = split_sequence(train, n_steps)\n",
        "X_validate, y_validate = split_sequence(validate, n_steps)\n",
        "X_test, y_test = split_sequence(test, n_steps)\n",
        "\n",
        "#for i in range(len(X)):\n",
        "  #print(X[i], y[i])\n",
        "  \n",
        "X_train = np.array(X_train)\n",
        "X_train = X_train.reshape((X_train.shape[0], X_train.shape[1], 1))\n",
        "y_train = np.array(y_train)\n",
        "y_train = y_train.reshape((y_train.shape[0], 1))\n",
        "\n",
        "print(X_train.shape)\n",
        "print(y_train.shape)\n",
        "\n",
        "X_test = np.array(X_test)\n",
        "X_test = X_test.reshape((X_test.shape[0], X_test.shape[1], 1))\n",
        "y_test = np.array(y_test)\n",
        "y_test = y_test.reshape((y_test.shape[0], 1))\n",
        "\n",
        "print(X_test.shape)\n",
        "print(y_test.shape)\n",
        "\n",
        "X_validate = np.array(X_validate)\n",
        "X_validate = X_validate.reshape((X_validate.shape[0], X_validate.shape[1], 1))\n",
        "y_validate = np.array(y_validate)\n",
        "y_validate = y_validate.reshape((y_validate.shape[0], 1))\n",
        "\n",
        "print(X_validate.shape)\n",
        "print(y_validate.shape)\n",
        "\n",
        "#seq = seq.reshape((seq.shape[0], seq.shape[1], 1))\n"
      ],
      "execution_count": 0,
      "outputs": [
        {
          "output_type": "stream",
          "text": [
            "(10761, 24, 1)\n",
            "(10761, 1)\n",
            "(1517, 24, 1)\n",
            "(1517, 1)\n",
            "(3058, 24, 1)\n",
            "(3058, 1)\n"
          ],
          "name": "stdout"
        }
      ]
    },
    {
      "cell_type": "code",
      "metadata": {
        "id": "X4LV6OpaVVME",
        "colab_type": "code",
        "outputId": "b986f9ac-b8ba-4f44-95e5-b7298f4fa4e5",
        "colab": {
          "base_uri": "https://localhost:8080/",
          "height": 459
        }
      },
      "source": [
        "X_train_temp = pd.DataFrame(X_train[:,:,0])\n",
        "X_train_temp\n",
        "print(X_train_temp.iloc[4])\n",
        "print(y_train[4])\n",
        "# y will be dependent on the X values (in order)"
      ],
      "execution_count": 0,
      "outputs": [
        {
          "output_type": "stream",
          "text": [
            "0     0.000000\n",
            "1     0.000000\n",
            "2     0.000000\n",
            "3     0.000000\n",
            "4     0.000000\n",
            "5     0.000000\n",
            "6     0.000000\n",
            "7     0.064516\n",
            "8     0.129032\n",
            "9     0.129032\n",
            "10    0.000000\n",
            "11    0.032258\n",
            "12    0.064516\n",
            "13    0.161290\n",
            "14    0.096774\n",
            "15    0.000000\n",
            "16    0.000000\n",
            "17    0.000000\n",
            "18    0.032258\n",
            "19    0.000000\n",
            "20    0.000000\n",
            "21    0.000000\n",
            "22    0.000000\n",
            "23    0.000000\n",
            "Name: 4, dtype: float64\n",
            "[0.]\n"
          ],
          "name": "stdout"
        }
      ]
    },
    {
      "cell_type": "code",
      "metadata": {
        "id": "RKmXffB2xsWe",
        "colab_type": "code",
        "colab": {}
      },
      "source": [
        "n_features = 1"
      ],
      "execution_count": 0,
      "outputs": []
    },
    {
      "cell_type": "code",
      "metadata": {
        "id": "DPQNdegwpS6z",
        "colab_type": "code",
        "outputId": "1ad0b65b-77ee-45ca-ad61-522994f1ca00",
        "colab": {
          "base_uri": "https://localhost:8080/",
          "height": 343
        }
      },
      "source": [
        "# Basic LSTM\n",
        "from keras.models import Sequential\n",
        "from keras.layers import Dense, LSTM, Dropout, Activation, GRU\n",
        "from keras.optimizers import SGD\n",
        "from keras.callbacks import ModelCheckpoint\n",
        "\n",
        "checkpoint_dir = os.path.join('/content','drive','My Drive','Colab Notebooks','training_LSTM')\n",
        "model_saved = checkpoint_dir + '/model-LSTM' + str(id_) + '.ckpt'\n",
        "model_callback = ModelCheckpoint(model_saved, save_weights_only=True, verbose=1, period=10)\n",
        "print(model_saved)\n",
        "\n",
        "model = Sequential()\n",
        "model.add(LSTM(24, input_shape=(n_steps, n_features), kernel_initializer=\"ones\", bias_initializer='ones'))\n",
        "#model.add(LSTM(16))\n",
        "model.add(Dense(1))   # activation layer\n",
        "model.add(Activation('sigmoid'))\n",
        "model.compile(loss=\"mse\", optimizer=\"adam\", metrics=['mse'])\n",
        "\n",
        "'''model = Sequential()\n",
        "model.add(GRU(32, input_shape=(n_steps, n_features), kernel_initializer=\"random_uniform\", bias_initializer='ones'))\n",
        "model.add(Dense(1))\n",
        "model.compile(loss=\"mse\", optimizer=\"adam\", metrics=['accuracy'])'''\n",
        "\n",
        "model.summary()"
      ],
      "execution_count": 0,
      "outputs": [
        {
          "output_type": "stream",
          "text": [
            "Using TensorFlow backend.\n"
          ],
          "name": "stderr"
        },
        {
          "output_type": "stream",
          "text": [
            "/content/drive/My Drive/Colab Notebooks/training_LSTM/model-LSTM76.ckpt\n",
            "WARNING:tensorflow:From /usr/local/lib/python3.6/dist-packages/tensorflow/python/framework/op_def_library.py:263: colocate_with (from tensorflow.python.framework.ops) is deprecated and will be removed in a future version.\n",
            "Instructions for updating:\n",
            "Colocations handled automatically by placer.\n",
            "_________________________________________________________________\n",
            "Layer (type)                 Output Shape              Param #   \n",
            "=================================================================\n",
            "lstm_1 (LSTM)                (None, 24)                2496      \n",
            "_________________________________________________________________\n",
            "dense_1 (Dense)              (None, 1)                 25        \n",
            "_________________________________________________________________\n",
            "activation_1 (Activation)    (None, 1)                 0         \n",
            "=================================================================\n",
            "Total params: 2,521\n",
            "Trainable params: 2,521\n",
            "Non-trainable params: 0\n",
            "_________________________________________________________________\n"
          ],
          "name": "stdout"
        }
      ]
    },
    {
      "cell_type": "code",
      "metadata": {
        "id": "-0DrmA9pqOMa",
        "colab_type": "code",
        "outputId": "58a0dbab-4121-41e4-96ac-1c8a26dd8bcc",
        "colab": {
          "base_uri": "https://localhost:8080/",
          "height": 1975
        }
      },
      "source": [
        "history = model.fit(X_train, y_train, epochs=50, validation_data=(X_validate, y_validate), batch_size=2, callbacks = [model_callback], verbose=1)"
      ],
      "execution_count": 0,
      "outputs": [
        {
          "output_type": "stream",
          "text": [
            "WARNING:tensorflow:From /usr/local/lib/python3.6/dist-packages/tensorflow/python/ops/math_ops.py:3066: to_int32 (from tensorflow.python.ops.math_ops) is deprecated and will be removed in a future version.\n",
            "Instructions for updating:\n",
            "Use tf.cast instead.\n",
            "Train on 10761 samples, validate on 3058 samples\n",
            "Epoch 1/50\n",
            "10761/10761 [==============================] - 64s 6ms/step - loss: 0.0099 - mean_squared_error: 0.0099 - val_loss: 0.0103 - val_mean_squared_error: 0.0103\n",
            "Epoch 2/50\n",
            "10761/10761 [==============================] - 62s 6ms/step - loss: 0.0063 - mean_squared_error: 0.0063 - val_loss: 0.0086 - val_mean_squared_error: 0.0086\n",
            "Epoch 3/50\n",
            "10761/10761 [==============================] - 63s 6ms/step - loss: 0.0059 - mean_squared_error: 0.0059 - val_loss: 0.0079 - val_mean_squared_error: 0.0079\n",
            "Epoch 4/50\n",
            "10761/10761 [==============================] - 63s 6ms/step - loss: 0.0056 - mean_squared_error: 0.0056 - val_loss: 0.0074 - val_mean_squared_error: 0.0074\n",
            "Epoch 5/50\n",
            "10761/10761 [==============================] - 61s 6ms/step - loss: 0.0055 - mean_squared_error: 0.0055 - val_loss: 0.0077 - val_mean_squared_error: 0.0077\n",
            "Epoch 6/50\n",
            "10761/10761 [==============================] - 64s 6ms/step - loss: 0.0053 - mean_squared_error: 0.0053 - val_loss: 0.0081 - val_mean_squared_error: 0.0081\n",
            "Epoch 7/50\n",
            "10761/10761 [==============================] - 63s 6ms/step - loss: 0.0053 - mean_squared_error: 0.0053 - val_loss: 0.0075 - val_mean_squared_error: 0.0075\n",
            "Epoch 8/50\n",
            "10761/10761 [==============================] - 62s 6ms/step - loss: 0.0051 - mean_squared_error: 0.0051 - val_loss: 0.0082 - val_mean_squared_error: 0.0082\n",
            "Epoch 9/50\n",
            "10761/10761 [==============================] - 64s 6ms/step - loss: 0.0050 - mean_squared_error: 0.0050 - val_loss: 0.0075 - val_mean_squared_error: 0.0075\n",
            "Epoch 10/50\n",
            "10761/10761 [==============================] - 65s 6ms/step - loss: 0.0050 - mean_squared_error: 0.0050 - val_loss: 0.0074 - val_mean_squared_error: 0.0074\n",
            "\n",
            "Epoch 00010: saving model to /content/drive/My Drive/Colab Notebooks/training_LSTM/model-LSTM76.ckpt\n",
            "Epoch 11/50\n",
            "10761/10761 [==============================] - 64s 6ms/step - loss: 0.0050 - mean_squared_error: 0.0050 - val_loss: 0.0068 - val_mean_squared_error: 0.0068\n",
            "Epoch 12/50\n",
            "10761/10761 [==============================] - 65s 6ms/step - loss: 0.0049 - mean_squared_error: 0.0049 - val_loss: 0.0069 - val_mean_squared_error: 0.0069\n",
            "Epoch 13/50\n",
            "10761/10761 [==============================] - 65s 6ms/step - loss: 0.0048 - mean_squared_error: 0.0048 - val_loss: 0.0068 - val_mean_squared_error: 0.0068\n",
            "Epoch 14/50\n",
            "10761/10761 [==============================] - 66s 6ms/step - loss: 0.0048 - mean_squared_error: 0.0048 - val_loss: 0.0071 - val_mean_squared_error: 0.0071\n",
            "Epoch 15/50\n",
            "10761/10761 [==============================] - 65s 6ms/step - loss: 0.0048 - mean_squared_error: 0.0048 - val_loss: 0.0073 - val_mean_squared_error: 0.0073\n",
            "Epoch 16/50\n",
            "10761/10761 [==============================] - 65s 6ms/step - loss: 0.0047 - mean_squared_error: 0.0047 - val_loss: 0.0067 - val_mean_squared_error: 0.0067\n",
            "Epoch 17/50\n",
            "10761/10761 [==============================] - 66s 6ms/step - loss: 0.0047 - mean_squared_error: 0.0047 - val_loss: 0.0067 - val_mean_squared_error: 0.0067\n",
            "Epoch 18/50\n",
            "10761/10761 [==============================] - 65s 6ms/step - loss: 0.0047 - mean_squared_error: 0.0047 - val_loss: 0.0067 - val_mean_squared_error: 0.0067\n",
            "Epoch 19/50\n",
            "10761/10761 [==============================] - 64s 6ms/step - loss: 0.0047 - mean_squared_error: 0.0047 - val_loss: 0.0072 - val_mean_squared_error: 0.0072\n",
            "Epoch 20/50\n",
            "10761/10761 [==============================] - 65s 6ms/step - loss: 0.0046 - mean_squared_error: 0.0046 - val_loss: 0.0073 - val_mean_squared_error: 0.0073\n",
            "\n",
            "Epoch 00020: saving model to /content/drive/My Drive/Colab Notebooks/training_LSTM/model-LSTM76.ckpt\n",
            "Epoch 21/50\n",
            "10761/10761 [==============================] - 66s 6ms/step - loss: 0.0046 - mean_squared_error: 0.0046 - val_loss: 0.0068 - val_mean_squared_error: 0.0068\n",
            "Epoch 22/50\n",
            "10761/10761 [==============================] - 66s 6ms/step - loss: 0.0046 - mean_squared_error: 0.0046 - val_loss: 0.0068 - val_mean_squared_error: 0.0068\n",
            "Epoch 23/50\n",
            "10761/10761 [==============================] - 67s 6ms/step - loss: 0.0045 - mean_squared_error: 0.0045 - val_loss: 0.0064 - val_mean_squared_error: 0.0064\n",
            "Epoch 24/50\n",
            "10761/10761 [==============================] - 68s 6ms/step - loss: 0.0045 - mean_squared_error: 0.0045 - val_loss: 0.0065 - val_mean_squared_error: 0.0065\n",
            "Epoch 25/50\n",
            "10761/10761 [==============================] - 67s 6ms/step - loss: 0.0045 - mean_squared_error: 0.0045 - val_loss: 0.0067 - val_mean_squared_error: 0.0067\n",
            "Epoch 26/50\n",
            "10761/10761 [==============================] - 66s 6ms/step - loss: 0.0045 - mean_squared_error: 0.0045 - val_loss: 0.0070 - val_mean_squared_error: 0.0070\n",
            "Epoch 27/50\n",
            "10761/10761 [==============================] - 66s 6ms/step - loss: 0.0045 - mean_squared_error: 0.0045 - val_loss: 0.0070 - val_mean_squared_error: 0.0070\n",
            "Epoch 28/50\n",
            "10761/10761 [==============================] - 65s 6ms/step - loss: 0.0045 - mean_squared_error: 0.0045 - val_loss: 0.0070 - val_mean_squared_error: 0.0070\n",
            "Epoch 29/50\n",
            "10761/10761 [==============================] - 65s 6ms/step - loss: 0.0045 - mean_squared_error: 0.0045 - val_loss: 0.0065 - val_mean_squared_error: 0.0065\n",
            "Epoch 30/50\n",
            "10761/10761 [==============================] - 66s 6ms/step - loss: 0.0045 - mean_squared_error: 0.0045 - val_loss: 0.0069 - val_mean_squared_error: 0.0069\n",
            "\n",
            "Epoch 00030: saving model to /content/drive/My Drive/Colab Notebooks/training_LSTM/model-LSTM76.ckpt\n",
            "Epoch 31/50\n",
            "10761/10761 [==============================] - 65s 6ms/step - loss: 0.0044 - mean_squared_error: 0.0044 - val_loss: 0.0065 - val_mean_squared_error: 0.0065\n",
            "Epoch 32/50\n",
            "10761/10761 [==============================] - 65s 6ms/step - loss: 0.0044 - mean_squared_error: 0.0044 - val_loss: 0.0065 - val_mean_squared_error: 0.0065\n",
            "Epoch 33/50\n",
            "10761/10761 [==============================] - 65s 6ms/step - loss: 0.0044 - mean_squared_error: 0.0044 - val_loss: 0.0064 - val_mean_squared_error: 0.0064\n",
            "Epoch 34/50\n",
            "10761/10761 [==============================] - 65s 6ms/step - loss: 0.0044 - mean_squared_error: 0.0044 - val_loss: 0.0066 - val_mean_squared_error: 0.0066\n",
            "Epoch 35/50\n",
            "10761/10761 [==============================] - 65s 6ms/step - loss: 0.0044 - mean_squared_error: 0.0044 - val_loss: 0.0066 - val_mean_squared_error: 0.0066\n",
            "Epoch 36/50\n",
            "10761/10761 [==============================] - 63s 6ms/step - loss: 0.0044 - mean_squared_error: 0.0044 - val_loss: 0.0068 - val_mean_squared_error: 0.0068\n",
            "Epoch 37/50\n",
            "10761/10761 [==============================] - 64s 6ms/step - loss: 0.0043 - mean_squared_error: 0.0043 - val_loss: 0.0065 - val_mean_squared_error: 0.0065\n",
            "Epoch 38/50\n",
            "10761/10761 [==============================] - 63s 6ms/step - loss: 0.0044 - mean_squared_error: 0.0044 - val_loss: 0.0068 - val_mean_squared_error: 0.0068\n",
            "Epoch 39/50\n",
            "10761/10761 [==============================] - 63s 6ms/step - loss: 0.0044 - mean_squared_error: 0.0044 - val_loss: 0.0067 - val_mean_squared_error: 0.0067\n",
            "Epoch 40/50\n",
            "10761/10761 [==============================] - 64s 6ms/step - loss: 0.0043 - mean_squared_error: 0.0043 - val_loss: 0.0065 - val_mean_squared_error: 0.0065\n",
            "\n",
            "Epoch 00040: saving model to /content/drive/My Drive/Colab Notebooks/training_LSTM/model-LSTM76.ckpt\n",
            "Epoch 41/50\n",
            "10761/10761 [==============================] - 64s 6ms/step - loss: 0.0043 - mean_squared_error: 0.0043 - val_loss: 0.0065 - val_mean_squared_error: 0.0065\n",
            "Epoch 42/50\n",
            "10761/10761 [==============================] - 65s 6ms/step - loss: 0.0043 - mean_squared_error: 0.0043 - val_loss: 0.0064 - val_mean_squared_error: 0.0064\n",
            "Epoch 43/50\n",
            "10761/10761 [==============================] - 67s 6ms/step - loss: 0.0043 - mean_squared_error: 0.0043 - val_loss: 0.0065 - val_mean_squared_error: 0.0065\n",
            "Epoch 44/50\n",
            "10761/10761 [==============================] - 68s 6ms/step - loss: 0.0043 - mean_squared_error: 0.0043 - val_loss: 0.0068 - val_mean_squared_error: 0.0068\n",
            "Epoch 45/50\n",
            "10761/10761 [==============================] - 68s 6ms/step - loss: 0.0043 - mean_squared_error: 0.0043 - val_loss: 0.0067 - val_mean_squared_error: 0.0067\n",
            "Epoch 46/50\n",
            "10761/10761 [==============================] - 68s 6ms/step - loss: 0.0043 - mean_squared_error: 0.0043 - val_loss: 0.0072 - val_mean_squared_error: 0.0072\n",
            "Epoch 47/50\n",
            "10761/10761 [==============================] - 67s 6ms/step - loss: 0.0043 - mean_squared_error: 0.0043 - val_loss: 0.0067 - val_mean_squared_error: 0.0067\n",
            "Epoch 48/50\n",
            "10761/10761 [==============================] - 65s 6ms/step - loss: 0.0042 - mean_squared_error: 0.0042 - val_loss: 0.0067 - val_mean_squared_error: 0.0067\n",
            "Epoch 49/50\n",
            "10761/10761 [==============================] - 66s 6ms/step - loss: 0.0042 - mean_squared_error: 0.0042 - val_loss: 0.0067 - val_mean_squared_error: 0.0067\n",
            "Epoch 50/50\n",
            "10761/10761 [==============================] - 65s 6ms/step - loss: 0.0042 - mean_squared_error: 0.0042 - val_loss: 0.0070 - val_mean_squared_error: 0.0070\n",
            "\n",
            "Epoch 00050: saving model to /content/drive/My Drive/Colab Notebooks/training_LSTM/model-LSTM76.ckpt\n"
          ],
          "name": "stdout"
        }
      ]
    },
    {
      "cell_type": "code",
      "metadata": {
        "id": "Vx5orlc5Dhc3",
        "colab_type": "code",
        "outputId": "1ccd184b-e200-4d73-a3fb-96dca174ceeb",
        "colab": {
          "base_uri": "https://localhost:8080/",
          "height": 409
        }
      },
      "source": [
        "from tensorflow.keras.utils import plot_model\n",
        "from IPython.display import Image\n",
        "\n",
        "def show_model(model):\n",
        "    plot_model(model, show_shapes=True, show_layer_names=True, to_file='temp_model.png')\n",
        "    return Image(filename='temp_model.png')\n",
        "  \n",
        "show_model(model)"
      ],
      "execution_count": 0,
      "outputs": [
        {
          "output_type": "execute_result",
          "data": {
            "image/png": "[encoded data removed]",
            "text/plain": [
              "<IPython.core.display.Image object>"
            ]
          },
          "metadata": {
            "tags": []
          },
          "execution_count": 30
        }
      ]
    },
    {
      "cell_type": "code",
      "metadata": {
        "id": "H9LAC_TOVwgu",
        "colab_type": "code",
        "outputId": "528025ba-5998-429e-85c6-cef1d38902b8",
        "colab": {
          "base_uri": "https://localhost:8080/",
          "height": 102
        }
      },
      "source": [
        "print(model.metrics_names)\n",
        "trainScore = model.evaluate(X_train, y_train, batch_size=2, verbose=0)\n",
        "print(trainScore)\n",
        "testScore = model.evaluate(X_test, y_test, batch_size=2, verbose=0)\n",
        "print(testScore)\n",
        "print(id_)\n",
        "print(station_data.columns.values[id_])\n",
        "\n",
        "\n",
        "# 109 - Market St at 10th St\n",
        "# [0.002062273089330662, 0.002062273089330662] train\n",
        "# [0.010674108163201202, 0.010674108163201202] test\n",
        "#\n",
        "#\n",
        "# 134 - Powell St BART Station (Market St at 4th St)\n",
        "# [0.019313525852511632, 0.019313525852511632]\n",
        "# [0.04542181637446189, 0.04542181637446189]\n",
        "#\n",
        "# \n",
        "# 135 - Powell St BART Station (Market St at 5th St)\n",
        "# [0.0031712579713262527, 0.0031712579713262527]\n",
        "# [0.008268373024021544, 0.008268373024021544]\n",
        "#\n",
        "# 45 - Berry St at 4th St  \n",
        "# [0.0016706133297921856, 0.0016706133297921856]\n",
        "# [0.00517451065383866, 0.00517451065383866]\n",
        "#\n",
        "#\n",
        "# 122 - Montgomery St BART Station (Market St at 2nd St)\n",
        "# [0.0017156134260478473, 0.0017156134260478473]\n",
        "# [0.006473897651893874, 0.006473897651893874]\n",
        "#\n",
        "#\n",
        "# 58 - Civic Center/UN Plaza BART Station (Market St at McAllister St)\n",
        "# [0.004535284466939384, 0.004535284466939384]\n",
        "# [0.012136456753653017, 0.012136456753653017]\n",
        "#\n",
        "#\n",
        "# 155 - The Embarcadero at Sansome St\n",
        "# [0.0035633843435845768, 0.0035633843435845768]\n",
        "# [0.004639789763724625, 0.004639789763724625]\n",
        "# The Embarcadero at Sansome St\n",
        "#\n",
        "#\n",
        "#[0.001102431544716449, 0.001102431544716449]#\n",
        "#[0.004415894134062518, 0.004415894134062518]\n",
        "#145\n",
        "#San Francisco Caltrain Station 2  (Townsend St at 4th St)\n",
        "#\n",
        "#\n",
        "#\n",
        "# 147 - San Francisco Ferry Building (Harry Bridges Plaza)\n",
        "#[0.002793792870921105, 0.002793792870921105]\n",
        "# [0.005899248997054549, 0.005899248997054549]\n",
        "#\n",
        "#\n",
        "# 68 - Embarcardero BART Station (Beale St at Market St)\n",
        "# [0.002169425312529655, 0.002169425312529655]\n",
        "# [0.004650530659221573, 0.004650530659221573]\n",
        "#\n",
        "#\n",
        "# 161 - Union Square (Powell St at Post St)\n",
        "# [0.006481142364500244, 0.006481142364500244]\n",
        "# [0.012958832885944783, 0.012958832885944783]\n",
        "#\n",
        "#\n",
        "# 153 - Steuart St at Market St\n",
        "# [0.0024730664946028434, 0.0024730664946028434]\n",
        "# [0.004880408607764009, 0.004880408607764009]\n",
        "# \n",
        "# \n",
        "# 159 - Townsend St at 7th St\n",
        "# [0.002891886451019069, 0.002891886451019069]\n",
        "# [0.005988647663529283, 0.005988647663529283]\n",
        "#\n",
        "#\n",
        "# 31 - 3rd St at Townsend St\n",
        "# [0.0014055264320152962, 0.0014055264320152962]\n",
        "# [0.0025301400148102712, 0.0025301400148102712]\n",
        "#\n",
        "#\n",
        "# 83 - Golden Gate Ave at Polk St\n",
        "# [0.004627298250418345, 0.004627298250418345]\n",
        "# [0.005298740235740634, 0.005298740235740634]\n",
        "#\n",
        "#\n",
        "# 144 - San Francisco Caltrain (Townsend St at 4th St)\n",
        "# [0.001981800487317894, 0.001981800487317894]\n",
        "# [0.004334206667145384, 0.004334206667145384]\n",
        "#\n",
        "#\n",
        "# 165 - Valencia St at 24th\n",
        "# [0.005232382246614114, 0.005232382246614114]\n",
        "# [0.008211507777906052, 0.008211507777906052]\n",
        "#\n",
        "#\n",
        "# 130 - Post St at Kearny St\n",
        "# [0.00465790580271993, 0.00465790580271993]\n",
        "# [0.009941564045400591, 0.009941564045400591]\n",
        "#\n",
        "#\n",
        "# 48 - Broadway at Kearny\n",
        "# [0.005385339810488406, 0.005385339810488406]\n",
        "# [0.010495234589730909, 0.010495234589730909]\n",
        "#\n",
        "#\n",
        "# 162 - Valencia St at 16th St\n",
        "# [0.00537691914179805, 0.00537691914179805]\n",
        "# [0.008219995318537898, 0.008219995318537898]\n",
        "#\n",
        "#\n",
        "# 154 - The Embarcadero at Bryant St\n",
        "# [0.005508628992670247, 0.005508628992670247]\n",
        "# [0.009924025046281197, 0.009924025046281197]\n",
        "#\n",
        "#\n",
        "# 44 - Beale St at Harrison St\n",
        "# [0.0023585019522990424, 0.0023585019522990424]\n",
        "# [0.00936908849270449, 0.00936908849270449]\n",
        "#\n",
        "#\n",
        "# 91 - Howard St at Beale St\n",
        "# [0.0023160183072276496, 0.0023160183072276496]\n",
        "# [0.004582747958480005, 0.004582747958480005]\n",
        "#\n",
        "#\n",
        "# 10 - 17th St at Valencia St\n",
        "# [0.003637479243204332, 0.003637479243204332]\n",
        "# [0.008493439417051914, 0.008493439417051914]\n",
        "#\n",
        "#\n",
        "# 76 - Folsom St at 3rd St\n",
        "# [0.00425468069924329, 0.00425468069924329]\n",
        "# [0.011789693833941337, 0.011789693833941337]\n",
        "\n",
        "\n",
        "#test\n",
        "#0.010674108163201202 + 0.04542181637446189 + 0.008268373024021544 + 0.00517451065383866 + 0.006473897651893874 + 0.012136456753653017 + 0.004639789763724625 +\n",
        "#0.004415894134062518 + 0.005899248997054549 + 0.004650530659221573 + 0.012958832885944783 + 0.004880408607764009 + 0.005988647663529283 + \n",
        "#0.0025301400148102712 + 0.005298740235740634 + 0.004334206667145384 + 0.008211507777906052 + 0.009941564045400591 + 0.010495234589730909 + \n",
        "#0.008219995318537898 + 0.009924025046281197 + 0.00936908849270449 + 0.004582747958480005 + 0.008493439417051914 + 0.011789693833941337\n",
        "\n",
        "#train\n",
        "#0.002062273089330662 + 0.019313525852511632 + 0.0031712579713262527 + 0.0016706133297921856 + 0.0017156134260478473 + 0.004535284466939384 +\n",
        "#0.0035633843435845768 + 0.001102431544716449 + 0.002793792870921105 + 0.002169425312529655 + 0.006481142364500244 + 0.0024730664946028434 + \n",
        "#0.002891886451019069 + 0.0014055264320152962 + 0.004627298250418345 + 0.001981800487317894 + 0.005232382246614114 + 0.00465790580271993 + \n",
        "#0.005385339810488406 + 0.00537691914179805 + 0.005508628992670247 + 0.0023585019522990424 + 0.0023160183072276496 + 0.003637479243204332 + 0.00425468069924329\n",
        "\n"
      ],
      "execution_count": 0,
      "outputs": [
        {
          "output_type": "stream",
          "text": [
            "['loss', 'mean_squared_error']\n",
            "[0.00425468069924329, 0.00425468069924329]\n",
            "[0.011789693833941337, 0.011789693833941337]\n",
            "76\n",
            "Folsom St at 3rd St\n"
          ],
          "name": "stdout"
        }
      ]
    },
    {
      "cell_type": "code",
      "metadata": {
        "id": "j6FulzI59T_C",
        "colab_type": "code",
        "outputId": "fd72f9f1-82ca-42bf-bfc3-c1c536f24381",
        "colab": {
          "base_uri": "https://localhost:8080/",
          "height": 312
        }
      },
      "source": [
        "# plot mse\n",
        "print(history.history.keys())\n",
        "plt.plot(history.history['mean_squared_error'])\n",
        "plt.title(station_data.columns.values[id_] + ' Model Error During Training')\n",
        "plt.ylabel('mean squared error')\n",
        "plt.xlabel('epochs')\n",
        "plt.show()"
      ],
      "execution_count": 0,
      "outputs": [
        {
          "output_type": "stream",
          "text": [
            "dict_keys(['val_loss', 'val_mean_squared_error', 'loss', 'mean_squared_error'])\n"
          ],
          "name": "stdout"
        },
        {
          "output_type": "display_data",
          "data": {
            "image/png": "[encoded data removed]",
            "text/plain": [
              "<Figure size 432x288 with 1 Axes>"
            ]
          },
          "metadata": {
            "tags": []
          }
        }
      ]
    },
    {
      "cell_type": "code",
      "metadata": {
        "id": "D_TW1QIp9UCo",
        "colab_type": "code",
        "outputId": "4df6c151-7c54-46f6-aede-deae70c47b55",
        "colab": {
          "base_uri": "https://localhost:8080/",
          "height": 303
        }
      },
      "source": [
        "# invert scaler on results\n",
        "\n",
        "training_predictions = model.predict(X_train)\n",
        "training_predictions = scaler.inverse_transform(training_predictions)\n",
        "training_y = scaler.inverse_transform(y_train.reshape(-1,1))\n",
        "\n",
        "x_list = range(len(training_predictions))\n",
        "plt.plot(x_list, training_y, 'y', x_list, training_predictions, 'b')"
      ],
      "execution_count": 0,
      "outputs": [
        {
          "output_type": "execute_result",
          "data": {
            "text/plain": [
              "[<matplotlib.lines.Line2D at 0x7f083dd6ca90>,\n",
              " <matplotlib.lines.Line2D at 0x7f083dd6cbe0>]"
            ]
          },
          "metadata": {
            "tags": []
          },
          "execution_count": 33
        },
        {
          "output_type": "display_data",
          "data": {
            "image/png": "[encoded data removed]",
            "text/plain": [
              "<Figure size 432x288 with 1 Axes>"
            ]
          },
          "metadata": {
            "tags": []
          }
        }
      ]
    },
    {
      "cell_type": "code",
      "metadata": {
        "id": "KDDxzzC_xT8S",
        "colab_type": "code",
        "colab": {}
      },
      "source": [
        "time_idx = pd.DataFrame(station_data.index[validation_idx+24:-1])\n",
        "x_axis = time_idx.values"
      ],
      "execution_count": 0,
      "outputs": []
    },
    {
      "cell_type": "code",
      "metadata": {
        "id": "SXMcxZhX9UFl",
        "colab_type": "code",
        "outputId": "4f762031-1ce7-4a8e-c510-dfb2c3503567",
        "colab": {
          "base_uri": "https://localhost:8080/",
          "height": 350
        }
      },
      "source": [
        "testing_predictions = model.predict(X_test)\n",
        "testing_predictions = scaler.inverse_transform(testing_predictions)\n",
        "testing_y = scaler.inverse_transform(y_test.reshape(-1,1))\n",
        "\n",
        "x_list = range(len(testing_predictions))\n",
        "days = 4\n",
        "plt.plot(x_axis[6+(days*24):240+(days*24)], testing_y[6+(days*24):240+(days*24)], 'y', x_axis[6+(days*24):240+(days*24)], testing_predictions[6+(days*24):240+(days*24)], 'g--')\n",
        "plt.legend(['actual', 'predicted'])\n",
        "plt.title(station_data.columns.values[id_] + ' Model Predictions')\n",
        "plt.xticks(rotation=45)\n",
        "plt.ylabel('Number of Visits')\n",
        "plt.xlabel('Date')"
      ],
      "execution_count": 0,
      "outputs": [
        {
          "output_type": "execute_result",
          "data": {
            "text/plain": [
              "Text(0.5, 0, 'Date')"
            ]
          },
          "metadata": {
            "tags": []
          },
          "execution_count": 35
        },
        {
          "output_type": "display_data",
          "data": {
            "image/png": "[encoded data removed]",
            "text/plain": [
              "<Figure size 432x288 with 1 Axes>"
            ]
          },
          "metadata": {
            "tags": []
          }
        }
      ]
    },
    {
      "cell_type": "code",
      "metadata": {
        "id": "fFtXjK-S9UIa",
        "colab_type": "code",
        "colab": {}
      },
      "source": [
        "import os\n",
        "\n",
        "predictions_dir = os.path.join('/content','drive','My Drive','Colab Notebooks','predictions_LSTM')\n",
        "header = [station_data.columns.values[id_]]\n",
        "int_predictions = [int(x) for x in testing_predictions]\n",
        "predictions = pd.DataFrame(int_predictions, columns=header)\n",
        "predictions.to_csv(predictions_dir + '/predictions_LSTM' + station_data.columns.values[id_] + '.csv')\n",
        "#predictions.to_csv(predictions_dir + '/predictions_Civic Center BART Station (Market St at McAllister St).csv')"
      ],
      "execution_count": 0,
      "outputs": []
    },
    {
      "cell_type": "code",
      "metadata": {
        "id": "gAWhW6EE-DpY",
        "colab_type": "code",
        "colab": {}
      },
      "source": [
        ""
      ],
      "execution_count": 0,
      "outputs": []
    },
    {
      "cell_type": "code",
      "metadata": {
        "id": "Vr-lLP8R9n5_",
        "colab_type": "code",
        "colab": {}
      },
      "source": [
        ""
      ],
      "execution_count": 0,
      "outputs": []
    },
    {
      "cell_type": "code",
      "metadata": {
        "id": "m-_UR6jl9oBE",
        "colab_type": "code",
        "colab": {}
      },
      "source": [
        ""
      ],
      "execution_count": 0,
      "outputs": []
    },
    {
      "cell_type": "code",
      "metadata": {
        "id": "kbZZ0zLeVuSN",
        "colab_type": "code",
        "outputId": "4b4f6dbc-e68a-4f30-a307-cca6ce9b6c5e",
        "colab": {
          "base_uri": "https://localhost:8080/",
          "height": 34
        }
      },
      "source": [
        "# Basic LSTM\n",
        "import os\n",
        "from keras.models import Sequential\n",
        "from keras.layers import Dense, LSTM, Dropout, Activation, GRU\n",
        "from keras.optimizers import SGD\n",
        "from keras.callbacks import ModelCheckpoint\n",
        "\n",
        "current_id = 144  # LOAD ALL DATA FOR THE ENTIRE NOTEBOOK USING THIS ID\n",
        "n_steps = 24\n",
        "n_features = 1\n",
        "modelrestored = Sequential()\n",
        "modelrestored.add(LSTM(24, input_shape=(n_steps, n_features), kernel_initializer=\"ones\", bias_initializer='ones'))\n",
        "modelrestored.add(Dense(1))   # activation layer\n",
        "modelrestored.add(Activation('sigmoid'))\n",
        "modelrestored.compile(loss=\"mse\", optimizer=\"adam\", metrics=['mse'])\n",
        "\n",
        "saved_models_dir = os.path.join('/content', 'drive', 'My Drive', 'Colab Notebooks', 'training_LSTM')\n",
        "model_load_from = saved_models_dir + '/model-LSTM' + str(current_id) + '.ckpt'\n",
        "print(model_load_from)\n",
        "modelrestored.load_weights(model_load_from)"
      ],
      "execution_count": 0,
      "outputs": [
        {
          "output_type": "stream",
          "text": [
            "/content/drive/My Drive/Colab Notebooks/training_LSTM/model-LSTM144.ckpt\n"
          ],
          "name": "stdout"
        }
      ]
    },
    {
      "cell_type": "code",
      "metadata": {
        "id": "vvel-opLzjej",
        "colab_type": "code",
        "outputId": "1c4faab5-c7b8-428b-88b1-cfc859d5615a",
        "colab": {
          "base_uri": "https://localhost:8080/",
          "height": 68
        }
      },
      "source": [
        "print(modelrestored.metrics_names)\n",
        "trainScore = modelrestored.evaluate(X_train, y_train, batch_size=2, verbose=0)\n",
        "print(trainScore)\n",
        "testScore = modelrestored.evaluate(X_test, y_test, batch_size=2, verbose=0)\n",
        "print(testScore)"
      ],
      "execution_count": 0,
      "outputs": [
        {
          "output_type": "stream",
          "text": [
            "['loss', 'mean_squared_error']\n",
            "[0.001981800487317894, 0.001981800487317894]\n",
            "[0.004334206667145384, 0.004334206667145384]\n"
          ],
          "name": "stdout"
        }
      ]
    },
    {
      "cell_type": "code",
      "metadata": {
        "id": "KjPc5BwX05XX",
        "colab_type": "code",
        "outputId": "1f5420a3-424c-48db-9f47-546c1969e94f",
        "colab": {
          "base_uri": "https://localhost:8080/",
          "height": 303
        }
      },
      "source": [
        "# invert scaler on results\n",
        "\n",
        "model = modelrestored\n",
        "\n",
        "training_predictions = model.predict(X_train)\n",
        "training_predictions = scaler.inverse_transform(training_predictions)\n",
        "training_y = scaler.inverse_transform(y_train.reshape(-1,1))\n",
        "\n",
        "x_list = range(len(training_predictions))\n",
        "plt.plot(x_list, training_y, 'y', x_list, training_predictions, 'b')"
      ],
      "execution_count": 0,
      "outputs": [
        {
          "output_type": "execute_result",
          "data": {
            "text/plain": [
              "[<matplotlib.lines.Line2D at 0x7f10e7837da0>,\n",
              " <matplotlib.lines.Line2D at 0x7f10e7837f28>]"
            ]
          },
          "metadata": {
            "tags": []
          },
          "execution_count": 87
        },
        {
          "output_type": "display_data",
          "data": {
            "image/png": "[encoded data removed]",
            "text/plain": [
              "<Figure size 432x288 with 1 Axes>"
            ]
          },
          "metadata": {
            "tags": []
          }
        }
      ]
    },
    {
      "cell_type": "code",
      "metadata": {
        "id": "16cPbaJT7Bwh",
        "colab_type": "code",
        "outputId": "da2c4a6f-9ff7-409d-b76f-516d0ca8c82c",
        "colab": {
          "base_uri": "https://localhost:8080/",
          "height": 303
        }
      },
      "source": [
        "# invert scaler on results\n",
        "\n",
        "testing_predictions = model.predict(X_test)\n",
        "testing_predictions = scaler.inverse_transform(testing_predictions)\n",
        "testing_y = scaler.inverse_transform(y_test.reshape(-1,1))\n",
        "\n",
        "x_list = range(len(testing_predictions))\n",
        "plt.plot(x_list, testing_y, 'y', x_list, testing_predictions, 'b')"
      ],
      "execution_count": 0,
      "outputs": [
        {
          "output_type": "execute_result",
          "data": {
            "text/plain": [
              "[<matplotlib.lines.Line2D at 0x7f10e785deb8>,\n",
              " <matplotlib.lines.Line2D at 0x7f10e7865080>]"
            ]
          },
          "metadata": {
            "tags": []
          },
          "execution_count": 88
        },
        {
          "output_type": "display_data",
          "data": {
            "image/png": "[encoded data removed]",
            "text/plain": [
              "<Figure size 432x288 with 1 Axes>"
            ]
          },
          "metadata": {
            "tags": []
          }
        }
      ]
    },
    {
      "cell_type": "code",
      "metadata": {
        "id": "BqIkdh9AEC8z",
        "colab_type": "code",
        "colab": {}
      },
      "source": [
        "time_idx = pd.DataFrame(station_data.index[validation_idx+24:-1])\n",
        "x_axis = time_idx.values"
      ],
      "execution_count": 0,
      "outputs": []
    },
    {
      "cell_type": "code",
      "metadata": {
        "id": "8yBjfgWPiZU0",
        "colab_type": "code",
        "outputId": "99042db9-325b-4251-e8e8-b7f94cb9a2a7",
        "colab": {
          "base_uri": "https://localhost:8080/",
          "height": 400
        }
      },
      "source": [
        "testing_predictions = modelrestored.predict(X_test)\n",
        "testing_predictions = scaler.inverse_transform(testing_predictions)\n",
        "testing_y = scaler.inverse_transform(y_test.reshape(-1,1))\n",
        "fig=plt.figure(figsize=(7, 4), dpi= 80, facecolor='w', edgecolor='k')\n",
        "\n",
        "# Last 10 days: [-240:]\n",
        "days = 4\n",
        "x_list = range(len(testing_predictions[6+(days*24):240+(days*24)]))\n",
        "print(len(x_list))\n",
        "plt.plot(x_axis[6+(days*24):240+(days*24)], testing_y[6+(days*24):240+(days*24)], 'orange', linestyle=\"-\")\n",
        "plt.plot(x_axis[6+(days*24):240+(days*24)], testing_predictions[6+(days*24):240+(days*24)], 'b', linestyle=\"--\")\n",
        "plt.legend(['actual', 'predicted'])\n",
        "plt.title(station_data.columns.values[current_id])\n",
        "plt.xticks(rotation=45)\n",
        "plt.ylabel('Number of Visits')\n",
        "plt.xlabel('Date')"
      ],
      "execution_count": 0,
      "outputs": [
        {
          "output_type": "stream",
          "text": [
            "234\n"
          ],
          "name": "stdout"
        },
        {
          "output_type": "execute_result",
          "data": {
            "text/plain": [
              "Text(0.5, 0, 'Date')"
            ]
          },
          "metadata": {
            "tags": []
          },
          "execution_count": 90
        },
        {
          "output_type": "display_data",
          "data": {
            "image/png": "[encoded data removed]",
            "text/plain": [
              "<Figure size 560x320 with 1 Axes>"
            ]
          },
          "metadata": {
            "tags": []
          }
        }
      ]
    },
    {
      "cell_type": "code",
      "metadata": {
        "id": "WiGgcLn0VBW1",
        "colab_type": "code",
        "outputId": "80471907-040f-4979-b5b5-117f7ecad138",
        "colab": {
          "base_uri": "https://localhost:8080/",
          "height": 51
        }
      },
      "source": [
        "\n",
        "#test\n",
        "#0.010674108163201202 + 0.04542181637446189 + 0.008268373024021544 + 0.00517451065383866 + 0.006473897651893874 + 0.012136456753653017 + 0.004639789763724625 +\n",
        "#0.004415894134062518 + 0.005899248997054549 + 0.004650530659221573 + 0.012958832885944783 + 0.004880408607764009 + 0.005988647663529283 + \n",
        "#0.0025301400148102712 + 0.005298740235740634 + 0.004334206667145384 + 0.008211507777906052 + 0.009941564045400591 + 0.010495234589730909 + \n",
        "#0.008219995318537898 + 0.009924025046281197 + 0.00936908849270449 + 0.004582747958480005 + 0.008493439417051914 + 0.011789693833941337\n",
        "\n",
        "#train\n",
        "#0.002062273089330662 + 0.019313525852511632 + 0.0031712579713262527 + 0.0016706133297921856 + 0.0017156134260478473 + 0.004535284466939384 +\n",
        "#0.0035633843435845768 + 0.001102431544716449 + 0.002793792870921105 + 0.002169425312529655 + 0.006481142364500244 + 0.0024730664946028434 + \n",
        "#0.002891886451019069 + 0.0014055264320152962 + 0.004627298250418345 + 0.001981800487317894 + 0.005232382246614114 + 0.00465790580271993 + \n",
        "#0.005385339810488406 + 0.00537691914179805 + 0.005508628992670247 + 0.0023585019522990424 + 0.0023160183072276496 + 0.003637479243204332 + 0.00425468069924329\n",
        "\n",
        "import statistics\n",
        "\n",
        "test_mse = [0.010674108163201202, 0.04542181637446189, 0.008268373024021544, 0.00517451065383866, 0.006473897651893874, 0.012136456753653017, 0.004639789763724625,\n",
        "            0.004415894134062518, 0.005899248997054549, 0.004650530659221573, 0.012958832885944783, 0.004880408607764009, 0.005988647663529283, 0.0025301400148102712, \n",
        "            0.005298740235740634, 0.004334206667145384, 0.008211507777906052, 0.009941564045400591, 0.010495234589730909, 0.008219995318537898, 0.009924025046281197, \n",
        "            0.00936908849270449, 0.004582747958480005, 0.008493439417051914, 0.011789693833941337]\n",
        "print(statistics.median(test_mse))\n",
        "\n",
        "\n",
        "\n",
        "train_mse = [0.002062273089330662, 0.019313525852511632, 0.0031712579713262527, 0.0016706133297921856, 0.0017156134260478473, 0.004535284466939384, \n",
        "             0.0035633843435845768, 0.001102431544716449, 0.002793792870921105, 0.002169425312529655, 0.006481142364500244, 0.0024730664946028434, \n",
        "             0.002891886451019069, 0.0014055264320152962, 0.004627298250418345, 0.001981800487317894, 0.005232382246614114, 0.00465790580271993, \n",
        "             0.005385339810488406, 0.00537691914179805, 0.005508628992670247, 0.0023585019522990424, 0.0023160183072276496, 0.003637479243204332,\n",
        "             0.00425468069924329]\n",
        "print(statistics.median(train_mse))"
      ],
      "execution_count": 0,
      "outputs": [
        {
          "output_type": "stream",
          "text": [
            "0.008211507777906052\n",
            "0.0031712579713262527\n"
          ],
          "name": "stdout"
        }
      ]
    },
    {
      "cell_type": "code",
      "metadata": {
        "id": "H4I8pRmiWXPP",
        "colab_type": "code",
        "colab": {}
      },
      "source": [
        ""
      ],
      "execution_count": 0,
      "outputs": []
    }
  ]
}